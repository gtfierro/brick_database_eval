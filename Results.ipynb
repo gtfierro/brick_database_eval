{
 "cells": [
  {
   "cell_type": "code",
   "execution_count": 43,
   "metadata": {
    "collapsed": true
   },
   "outputs": [],
   "source": [
    "import pandas as pd\n",
    "from matplotlib import pyplot as plt\n",
    "import requests\n",
    "import time\n",
    "%matplotlib inline"
   ]
  },
  {
   "cell_type": "code",
   "execution_count": 44,
   "metadata": {
    "collapsed": true
   },
   "outputs": [],
   "source": [
    "NUM_ITERATIONS = 10\n",
    "def avg(l):\n",
    "    return float(sum(l))/(len(l))"
   ]
  },
  {
   "cell_type": "code",
   "execution_count": 100,
   "metadata": {
    "collapsed": true
   },
   "outputs": [],
   "source": [
    "query1_sparql = \"\"\"\n",
    "PREFIX rdf: <http://www.w3.org/1999/02/22-rdf-syntax-ns#>\n",
    "PREFIX rdfs: <http://www.w3.org/2000/01/rdf-schema#>\n",
    "PREFIX brick: <http://buildsys.org/ontologies/Brick#> \n",
    "PREFIX bf: <http://buildsys.org/ontologies/BrickFrame#> \n",
    "SELECT DISTINCT ?sensor ?room\n",
    "WHERE {\n",
    "\n",
    "    ?sensor rdf:type/rdfs:subClassOf* brick:Zone_Temperature_Sensor .\n",
    "    ?room rdf:type brick:Room .\n",
    "    ?vav rdf:type brick:VAV .\n",
    "    ?zone rdf:type brick:HVAC_Zone .\n",
    "\n",
    "    ?vav bf:feeds+ ?zone .\n",
    "    ?zone bf:hasPart ?room .\n",
    "\n",
    "    {?sensor bf:isPointOf ?vav }\n",
    "    UNION\n",
    "    {?sensor bf:isPointOf ?room }\n",
    "}\n",
    "\"\"\"\n",
    "query1_hod = \"\"\"\n",
    "SELECT ?sensor ?room\n",
    "WHERE {\n",
    "    ?sensor rdf:type/rdfs:subClassOf* brick:Zone_Temperature_Sensor .\n",
    "    ?room rdf:type brick:Room .\n",
    "    ?vav rdf:type brick:VAV .\n",
    "    ?zone rdf:type brick:HVAC_Zone .\n",
    "\n",
    "    ?vav bf:feeds+ ?zone .\n",
    "    ?zone bf:hasPart ?room .\n",
    "\n",
    "    { ?sensor bf:isPointOf ?vav .\n",
    "    OR\n",
    "    ?sensor bf:isPointOf ?room . }\n",
    "};\n",
    "\"\"\"\n",
    "query2_sparql = \"\"\"\n",
    "PREFIX rdf: <http://www.w3.org/1999/02/22-rdf-syntax-ns#>\n",
    "PREFIX rdfs: <http://www.w3.org/2000/01/rdf-schema#>\n",
    "PREFIX brick: <http://buildsys.org/ontologies/Brick#> \n",
    "PREFIX bf: <http://buildsys.org/ontologies/BrickFrame#> \n",
    "SELECT ?vlv_cmd ?vav\n",
    "WHERE {\n",
    "    {\n",
    "      { ?vlv_cmd rdf:type brick:Reheat_Valve_Command }\n",
    "      UNION\n",
    "      { ?vlv_cmd rdf:type brick:Cooling_Valve_Command }\n",
    "    }\n",
    "    ?vav rdf:type brick:VAV .\n",
    "    ?vav bf:hasPoint+ ?vlv_cmd .\n",
    "}\n",
    "\"\"\"\n",
    "query2_hod = \"\"\"\n",
    "SELECT ?vlv_cmd ?vav\n",
    "WHERE {\n",
    "    {\n",
    "      { \n",
    "      ?vlv_cmd rdf:type brick:Reheat_Valve_Command .\n",
    "      OR\n",
    "      ?vlv_cmd rdf:type brick:Cooling_Valve_Command .\n",
    "      }\n",
    "    }\n",
    "    ?vav rdf:type brick:VAV .\n",
    "    ?vav bf:hasPoint+ ?vlv_cmd .\n",
    "};\n",
    "\"\"\"\n"
   ]
  },
  {
   "cell_type": "markdown",
   "metadata": {},
   "source": [
    "## Hod Benchmark"
   ]
  },
  {
   "cell_type": "code",
   "execution_count": 82,
   "metadata": {
    "collapsed": true
   },
   "outputs": [],
   "source": [
    "# Hod Configs\n",
    "HOD_SERVER = \"http://localhost:47808/query\""
   ]
  },
  {
   "cell_type": "code",
   "execution_count": 83,
   "metadata": {
    "collapsed": false
   },
   "outputs": [
    {
     "name": "stdout",
     "output_type": "stream",
     "text": [
      "Error response from daemon: Cannot kill container hod: Container 95ea3267f4412a416e196ac4b341580ffedb472b0982d2368f2e4abed3e2f632 is not running\n",
      "hod\n",
      "ab7ae277e28a41342ea95245b04b32614bd9a30ceb09f411f985105a6990e841\n",
      "docker: Error response from daemon: driver failed programming external connectivity on endpoint hod (62734627c76c23cc70707557f2214a422ad5c5af3538c41f5d99211aa936866a): Error starting userland proxy: listen tcp 0.0.0.0:47808: bind: address already in use.\n"
     ]
    }
   ],
   "source": [
    "# run hod\n",
    "#!cd hod; ./runserver.sh\n",
    "!cd hod; docker kill hod ; docker rm hod; docker run -d --name hod -p47808:47808 gtfierro/hod"
   ]
  },
  {
   "cell_type": "code",
   "execution_count": 88,
   "metadata": {
    "collapsed": false
   },
   "outputs": [
    {
     "name": "stdout",
     "output_type": "stream",
     "text": [
      "0 57.15\n",
      "1 27.94\n",
      "2 31.81\n",
      "3 63.04\n",
      "4 25.47\n",
      "5 22.50\n",
      "6 28.26\n",
      "7 39.67\n",
      "8 22.36\n",
      "9 27.53\n",
      "Took 34.57ms\n"
     ]
    }
   ],
   "source": [
    "## query 1\n",
    "hod_query_1_results = []\n",
    "for i in range(NUM_ITERATIONS):\n",
    "    t1 = time.time()*1000\n",
    "    resp = requests.post(HOD_SERVER, data=query1_hod)\n",
    "    if not resp.ok:\n",
    "        print resp, resp.reason\n",
    "        break\n",
    "    t2 = time.time()*1000\n",
    "    hod_query_1_results.append(t2-t1)\n",
    "    print i, '{0:.2f}'.format(t2-t1)\n",
    "    time.sleep(.5)\n",
    "hod_query_1_avg = avg(hod_query_1_results)\n",
    "print \"Took {0:.2f}ms\".format(hod_query_1_avg)"
   ]
  },
  {
   "cell_type": "code",
   "execution_count": 93,
   "metadata": {
    "collapsed": false
   },
   "outputs": [
    {
     "name": "stdout",
     "output_type": "stream",
     "text": [
      "0 146.32\n",
      "1 109.46\n",
      "2 93.05\n",
      "3 123.58\n",
      "4 104.49\n",
      "5 95.62\n",
      "6 109.11\n",
      "7 93.87\n",
      "8 113.97\n",
      "9 188.81\n",
      "Took 117.83ms\n"
     ]
    }
   ],
   "source": [
    "## query 2\n",
    "hod_query_2_results = []\n",
    "for i in range(NUM_ITERATIONS):\n",
    "    t1 = time.time()*1000\n",
    "    resp = requests.post(HOD_SERVER, data=query2_hod)\n",
    "    if not resp.ok:\n",
    "        print resp, resp.reason\n",
    "        break\n",
    "    t2 = time.time()*1000\n",
    "    hod_query_2_results.append(t2-t1)\n",
    "    print i, '{0:.2f}'.format(t2-t1)\n",
    "    time.sleep(.5)\n",
    "hod_query_2_avg = avg(hod_query_2_results)\n",
    "print \"Took {0:.2f}ms\".format(hod_query_2_avg)"
   ]
  },
  {
   "cell_type": "markdown",
   "metadata": {},
   "source": [
    "## Fuseki Benchmark"
   ]
  },
  {
   "cell_type": "code",
   "execution_count": 96,
   "metadata": {
    "collapsed": true
   },
   "outputs": [],
   "source": [
    "# Fuseki Configs\n",
    "FUSEKI_SERVER = \"http://pantry.cs.berkeley.edu:3030/SodaHall/query\""
   ]
  },
  {
   "cell_type": "code",
   "execution_count": null,
   "metadata": {
    "collapsed": true
   },
   "outputs": [],
   "source": [
    "# TODO: on fuseki. Automatically load in brick/brickframe/berkeley ttl files in the docker entrypoint"
   ]
  },
  {
   "cell_type": "code",
   "execution_count": null,
   "metadata": {
    "collapsed": false
   },
   "outputs": [],
   "source": [
    "## query 1\n",
    "fuseki_query_1_results = []\n",
    "for i in range(NUM_ITERATIONS):\n",
    "    t1 = time.time()*1000\n",
    "    resp = requests.post(FUSEKI_SERVER, params={'query':query1_sparql})\n",
    "    if not resp.ok:\n",
    "        print resp, resp.reason\n",
    "        break\n",
    "    t2 = time.time()*1000\n",
    "    fuseki_query_1_results.append(t2-t1)\n",
    "    print i, '{0:.2f}'.format(t2-t1)\n",
    "    time.sleep(.5)\n",
    "fuseki_query_1_avg = avg(fuseki_query_1_results)\n",
    "print \"Took {0:.2f}ms\".format(fuseki_query_1_avg)"
   ]
  },
  {
   "cell_type": "code",
   "execution_count": null,
   "metadata": {
    "collapsed": false
   },
   "outputs": [],
   "source": [
    "## query 2\n",
    "fuseki_query_2_results = []\n",
    "for i in range(NUM_ITERATIONS):\n",
    "    t1 = time.time()*1000\n",
    "    resp = requests.post(HOD_SERVER, data=query2_sparql)\n",
    "    if not resp.ok:\n",
    "        print resp, resp.reason\n",
    "        break\n",
    "    t2 = time.time()*1000\n",
    "    fuseki_query_2_results.append(t2-t1)\n",
    "    print i, '{0:.2f}'.format(t2-t1)\n",
    "    time.sleep(.5)\n",
    "fuseki_query_2_avg = avg(fuseki_query_2_results)\n",
    "print \"Took {0:.2f}ms\".format(fuseki_query_2_avg)"
   ]
  },
  {
   "cell_type": "code",
   "execution_count": null,
   "metadata": {
    "collapsed": true
   },
   "outputs": [],
   "source": []
  }
 ],
 "metadata": {
  "kernelspec": {
   "display_name": "Python 2",
   "language": "python",
   "name": "python2"
  },
  "language_info": {
   "codemirror_mode": {
    "name": "ipython",
    "version": 2
   },
   "file_extension": ".py",
   "mimetype": "text/x-python",
   "name": "python",
   "nbconvert_exporter": "python",
   "pygments_lexer": "ipython2",
   "version": "2.7.12"
  }
 },
 "nbformat": 4,
 "nbformat_minor": 0
}
