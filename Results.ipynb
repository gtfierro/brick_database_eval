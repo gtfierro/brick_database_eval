{
 "cells": [
  {
   "cell_type": "code",
   "execution_count": 43,
   "metadata": {
    "collapsed": true
   },
   "outputs": [],
   "source": [
    "import pandas as pd\n",
    "from matplotlib import pyplot as plt\n",
    "import requests\n",
    "import time\n",
    "%matplotlib inline"
   ]
  },
  {
   "cell_type": "code",
   "execution_count": 44,
   "metadata": {
    "collapsed": true
   },
   "outputs": [],
   "source": [
    "NUM_ITERATIONS = 10\n",
    "def avg(l):\n",
    "    return float(sum(l))/(len(l))"
   ]
  },
  {
   "cell_type": "code",
   "execution_count": 38,
   "metadata": {
    "collapsed": true
   },
   "outputs": [],
   "source": [
    "query1_sparql = \"\"\"\n",
    "SELECT DISTINCT ?sensor ?room\n",
    "WHERE {\n",
    "\n",
    "    ?sensor rdf:type/rdfs:subClassOf* brick:Zone_Temperature_Sensor .\n",
    "    ?room rdf:type brick:Room .\n",
    "    ?vav rdf:type brick:VAV .\n",
    "    ?zone rdf:type brick:HVAC_Zone .\n",
    "\n",
    "    ?vav bf:feeds+ ?zone .\n",
    "    ?zone bf:hasPart ?room .\n",
    "\n",
    "    {?sensor bf:isPointOf ?vav }\n",
    "    UNION\n",
    "    {?sensor bf:isPointOf ?room }\n",
    "}\n",
    "\"\"\"\n",
    "query1_hod = \"\"\"\n",
    "SELECT ?sensor ?room\n",
    "WHERE {\n",
    "\n",
    "    ?sensor rdf:type/rdfs:subClassOf* brick:Zone_Temperature_Sensor .\n",
    "    ?room rdf:type brick:Room .\n",
    "    ?vav rdf:type brick:VAV .\n",
    "    ?zone rdf:type brick:HVAC_Zone .\n",
    "\n",
    "    ?vav bf:feeds+ ?zone .\n",
    "    ?zone bf:hasPart ?room .\n",
    "\n",
    "    {\n",
    "    ?sensor bf:isPointOf ?vav .\n",
    "    OR\n",
    "    ?sensor bf:isPointOf ?room .\n",
    "    }\n",
    "}\n",
    "\"\"\""
   ]
  },
  {
   "cell_type": "markdown",
   "metadata": {},
   "source": [
    "## Hod Benchmark"
   ]
  },
  {
   "cell_type": "code",
   "execution_count": 39,
   "metadata": {
    "collapsed": true
   },
   "outputs": [],
   "source": [
    "# Hod Configs\n",
    "HOD_SERVER = \"http://localhost:47808/query\""
   ]
  },
  {
   "cell_type": "code",
   "execution_count": 40,
   "metadata": {
    "collapsed": false
   },
   "outputs": [
    {
     "name": "stdout",
     "output_type": "stream",
     "text": [
      "hod\n",
      "hod\n",
      "b24cdad90fb8264c418ad58925a0821bd153c6c0ee6c1a727547c613989da61a\n"
     ]
    }
   ],
   "source": [
    "# run hod\n",
    "#!cd hod; ./runserver.sh\n",
    "!cd hod; docker kill hod ; docker rm hod; docker run -d --name hod -p47808:47808 gtfierro/hod"
   ]
  },
  {
   "cell_type": "code",
   "execution_count": 47,
   "metadata": {
    "collapsed": false
   },
   "outputs": [
    {
     "name": "stdout",
     "output_type": "stream",
     "text": [
      "0 4.243\n",
      "1 1.831\n",
      "2 2.542\n",
      "3 2.545\n",
      "4 3.231\n",
      "5 4.336\n",
      "6 1.998\n",
      "7 2.135\n",
      "8 4.73\n",
      "9 4.157\n",
      "Took 3.17ms\n"
     ]
    }
   ],
   "source": [
    "## query 1\n",
    "hod_query_1_results = []\n",
    "for i in range(NUM_ITERATIONS):\n",
    "    t1 = time.clock()*1000\n",
    "    resp = requests.post(HOD_SERVER, data=query1_hod)\n",
    "    t2 = time.clock()*1000\n",
    "    hod_query_1_results.append(t2-t1)\n",
    "    print i, t2-t1\n",
    "    time.sleep(.5)\n",
    "hod_query_1_avg = avg(hod_query_1_results)\n",
    "print \"Took {0:.2f}ms\".format(hod_query_1_avg)"
   ]
  },
  {
   "cell_type": "code",
   "execution_count": null,
   "metadata": {
    "collapsed": true
   },
   "outputs": [],
   "source": []
  },
  {
   "cell_type": "code",
   "execution_count": null,
   "metadata": {
    "collapsed": true
   },
   "outputs": [],
   "source": []
  }
 ],
 "metadata": {
  "kernelspec": {
   "display_name": "Python 2",
   "language": "python",
   "name": "python2"
  },
  "language_info": {
   "codemirror_mode": {
    "name": "ipython",
    "version": 2
   },
   "file_extension": ".py",
   "mimetype": "text/x-python",
   "name": "python",
   "nbconvert_exporter": "python",
   "pygments_lexer": "ipython2",
   "version": "2.7.12"
  }
 },
 "nbformat": 4,
 "nbformat_minor": 0
}
