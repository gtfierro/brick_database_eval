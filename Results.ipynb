{
 "cells": [
  {
   "cell_type": "code",
   "execution_count": 1,
   "metadata": {
    "collapsed": true
   },
   "outputs": [],
   "source": [
    "import pandas as pd\n",
    "from matplotlib import pyplot as plt\n",
    "import requests\n",
    "from requests.auth import HTTPBasicAuth\n",
    "import time\n",
    "%matplotlib inline"
   ]
  },
  {
   "cell_type": "code",
   "execution_count": 2,
   "metadata": {
    "collapsed": true
   },
   "outputs": [],
   "source": [
    "NUM_ITERATIONS = 10\n",
    "def avg(l):\n",
    "    return float(sum(l))/(len(l))"
   ]
  },
  {
   "cell_type": "code",
   "execution_count": 68,
   "metadata": {
    "collapsed": true
   },
   "outputs": [],
   "source": [
    "query0_sparql = \"\"\"\n",
    "PREFIX rdf: <http://www.w3.org/1999/02/22-rdf-syntax-ns#>\n",
    "PREFIX rdfs: <http://www.w3.org/2000/01/rdf-schema#>\n",
    "PREFIX brick: <http://buildsys.org/ontologies/Brick#> \n",
    "PREFIX bf: <http://buildsys.org/ontologies/BrickFrame#> \n",
    "SELECT DISTINCT ?vav\n",
    "WHERE {\n",
    "    ?vav rdf:type brick:VAV .\n",
    "}\n",
    "\"\"\"\n",
    "\n",
    "query0_hod = \"\"\"\n",
    "SELECT ?vav\n",
    "WHERE {\n",
    "    ?vav rdf:type brick:VAV .\n",
    "};\n",
    "\"\"\"\n",
    "\n",
    "query0_rdf3x = query0_sparql\n",
    "\n",
    "query1_sparql = \"\"\"\n",
    "PREFIX rdf: <http://www.w3.org/1999/02/22-rdf-syntax-ns#>\n",
    "PREFIX rdfs: <http://www.w3.org/2000/01/rdf-schema#>\n",
    "PREFIX brick: <http://buildsys.org/ontologies/Brick#> \n",
    "PREFIX bf: <http://buildsys.org/ontologies/BrickFrame#> \n",
    "SELECT DISTINCT ?sensor ?room\n",
    "WHERE {\n",
    "\n",
    "    ?sensor rdf:type/rdfs:subClassOf* brick:Zone_Temperature_Sensor .\n",
    "    ?room rdf:type brick:Room .\n",
    "    ?vav rdf:type brick:VAV .\n",
    "    ?zone rdf:type brick:HVAC_Zone .\n",
    "\n",
    "    ?vav bf:feeds+ ?zone .\n",
    "    ?zone bf:hasPart ?room .\n",
    "\n",
    "    {?sensor bf:isPointOf ?vav }\n",
    "    UNION\n",
    "    {?sensor bf:isPointOf ?room }\n",
    "}\n",
    "\"\"\"\n",
    "query1_hod = \"\"\"\n",
    "SELECT ?sensor ?room\n",
    "WHERE {\n",
    "    ?sensor rdf:type/rdfs:subClassOf* brick:Zone_Temperature_Sensor .\n",
    "    ?room rdf:type brick:Room .\n",
    "    ?vav rdf:type brick:VAV .\n",
    "    ?zone rdf:type brick:HVAC_Zone .\n",
    "\n",
    "    ?vav bf:feeds+ ?zone .\n",
    "    ?zone bf:hasPart ?room .\n",
    "\n",
    "    { ?sensor bf:isPointOf ?vav .\n",
    "    OR\n",
    "    ?sensor bf:isPointOf ?room . }\n",
    "};\n",
    "\"\"\"\n",
    "query1_rdf3x = \"\"\"\n",
    "PREFIX rdf: <http://www.w3.org/1999/02/22-rdf-syntax-ns#>\n",
    "PREFIX rdfs: <http://www.w3.org/2000/01/rdf-schema#>\n",
    "PREFIX brick: <http://buildsys.org/ontologies/Brick#> \n",
    "PREFIX bf: <http://buildsys.org/ontologies/BrickFrame#> \n",
    "SELECT DISTINCT ?sensor ?room\n",
    "WHERE {\n",
    "     ?sensor rdf:type brick:ZoneTemperatureSensor .\n",
    "     ?room rdf:type brick:Room .\n",
    "     ?vav rdf:type brick:VAV .\n",
    "     ?zone rdf:type brick:HVACZone .\n",
    "     ?vav bf:feeds ?zone .\n",
    "     ?zone bf:hasPart ?room .\n",
    "     ?vav bf:hasPoint ?sensor .\n",
    "}\n",
    "\"\"\"\n",
    "\n",
    "query1_hod_3x = \"\"\"\n",
    "SELECT ?sensor ?room\n",
    "WHERE {\n",
    "    ?sensor rdf:type/rdfs:subClassOf* brick:Zone_Temperature_Sensor .\n",
    "    ?room rdf:type brick:Room .\n",
    "    ?vav rdf:type brick:VAV .\n",
    "    ?zone rdf:type brick:HVAC_Zone .\n",
    "    ?vav bf:feeds+ ?zone .\n",
    "    ?zone bf:hasPart ?room .\n",
    "    ?vav bf:hasPoint ?sensor .\n",
    "};\n",
    "\"\"\"\n",
    "\n",
    "query2_sparql = \"\"\"\n",
    "PREFIX rdf: <http://www.w3.org/1999/02/22-rdf-syntax-ns#>\n",
    "PREFIX rdfs: <http://www.w3.org/2000/01/rdf-schema#>\n",
    "PREFIX brick: <http://buildsys.org/ontologies/Brick#> \n",
    "PREFIX bf: <http://buildsys.org/ontologies/BrickFrame#> \n",
    "SELECT ?vlv_cmd ?vav\n",
    "WHERE {\n",
    "    {\n",
    "      { ?vlv_cmd rdf:type brick:Reheat_Valve_Command }\n",
    "      UNION\n",
    "      { ?vlv_cmd rdf:type brick:Cooling_Valve_Command }\n",
    "    }\n",
    "    ?vav rdf:type brick:VAV .\n",
    "    ?vav bf:hasPoint+ ?vlv_cmd .\n",
    "}\n",
    "\"\"\"\n",
    "query2_hod = \"\"\"\n",
    "SELECT ?vlv_cmd ?vav\n",
    "WHERE {\n",
    "    {\n",
    "      { \n",
    "      ?vlv_cmd rdf:type brick:Reheat_Valve_Command .\n",
    "      OR\n",
    "      ?vlv_cmd rdf:type brick:Cooling_Valve_Command .\n",
    "      }\n",
    "    }\n",
    "    ?vav rdf:type brick:VAV .\n",
    "    ?vav bf:hasPoint+ ?vlv_cmd .\n",
    "};\n",
    "\"\"\"\n",
    "query2_rdf3x = \"\"\"\n",
    "PREFIX rdf: <http://www.w3.org/1999/02/22-rdf-syntax-ns#>\n",
    "PREFIX rdfs: <http://www.w3.org/2000/01/rdf-schema#>\n",
    "PREFIX brick: <http://buildsys.org/ontologies/Brick#> \n",
    "PREFIX bf: <http://buildsys.org/ontologies/BrickFrame#> \n",
    "SELECT ?vlvcmd ?vav\n",
    "WHERE {\n",
    "    ?vlvcmd rdf:type brick:ReheatValveCommand .\n",
    "      #UNION\n",
    "      #{ ?vlvcmd rdf:type brick:CoolingValveCommand }\n",
    "    ?vav rdf:type brick:VAV .\n",
    "    ?vav bf:hasPoint ?vlvcmd .\n",
    "}\n",
    "\"\"\"\n",
    "\n",
    "query3_sparql = \"\"\"\n",
    "PREFIX rdf: <http://www.w3.org/1999/02/22-rdf-syntax-ns#>\n",
    "PREFIX rdfs: <http://www.w3.org/2000/01/rdf-schema#>\n",
    "PREFIX brick: <http://buildsys.org/ontologies/Brick#> \n",
    "PREFIX bf: <http://buildsys.org/ontologies/BrickFrame#> \n",
    "SELECT ?floor ?room ?zone\n",
    "WHERE {\n",
    "    ?floor rdf:type brick:Floor .\n",
    "    ?room rdf:type brick:Room .\n",
    "    ?zone rdf:type brick:HVAC_Zone .\n",
    "\n",
    "    ?room bf:isPartOf+ ?floor .\n",
    "    ?room bf:isPartOf+ ?zone .\n",
    "}\n",
    "\"\"\"\n",
    "query3_hod = \"\"\"\n",
    "SELECT ?floor ?room ?zone\n",
    "WHERE {\n",
    "    ?floor rdf:type brick:Floor .\n",
    "    ?room rdf:type brick:Room .\n",
    "    ?zone rdf:type brick:HVAC_Zone .\n",
    "\n",
    "    ?room bf:isPartOf+ ?floor .\n",
    "    ?room bf:isPartOf+ ?zone .\n",
    "};\n",
    "\"\"\"\n",
    "query3_rdf3x = \"\"\"\n",
    "PREFIX rdf: <http://www.w3.org/1999/02/22-rdf-syntax-ns#>\n",
    "PREFIX rdfs: <http://www.w3.org/2000/01/rdf-schema#>\n",
    "PREFIX brick: <http://buildsys.org/ontologies/Brick#> \n",
    "PREFIX bf: <http://buildsys.org/ontologies/BrickFrame#> \n",
    "SELECT ?floor ?room ?zone\n",
    "WHERE {\n",
    "    ?floor rdf:type brick:Floor .\n",
    "    ?room rdf:type brick:Room .\n",
    "    ?zone rdf:type brick:HVACZone .\n",
    "    ?room bf:isPartOf ?floor .\n",
    "    ?zone bf:hasPart ?room .\n",
    "}\n",
    "\"\"\""
   ]
  },
  {
   "cell_type": "code",
   "execution_count": 4,
   "metadata": {
    "collapsed": true
   },
   "outputs": [],
   "source": [
    "# runs function for some iterations and prints average\n",
    "def run(func, show_first=False, iterations=NUM_ITERATIONS):\n",
    "    query_times = []\n",
    "    for i in range(iterations):\n",
    "        t1 = time.time()*1000\n",
    "        resp = func()\n",
    "        t2 = time.time()*1000\n",
    "        if resp is None: break\n",
    "        if i == 0 and show_first: print resp.content\n",
    "        query_times.append(t2-t1)\n",
    "        print i, '{0:.2f}'.format(t2-t1)\n",
    "        time.sleep(.5)\n",
    "    query_avg = avg(query_times)\n",
    "    print \"Took {0:.2f}ms\".format(query_avg)"
   ]
  },
  {
   "cell_type": "code",
   "execution_count": 38,
   "metadata": {
    "collapsed": true
   },
   "outputs": [],
   "source": [
    "def get_runs(func, iterations=NUM_ITERATIONS):\n",
    "    runs = []\n",
    "    for i in range(iterations):\n",
    "        t1 = time.time()*1000\n",
    "        resp = func()\n",
    "        t2 = time.time()*1000\n",
    "        if resp is None: break\n",
    "        runs.append(t2-t1)\n",
    "        time.sleep(0.5)\n",
    "    return runs"
   ]
  },
  {
   "cell_type": "markdown",
   "metadata": {},
   "source": [
    "## Hod Benchmark"
   ]
  },
  {
   "cell_type": "code",
   "execution_count": 112,
   "metadata": {
    "collapsed": true
   },
   "outputs": [],
   "source": [
    "# Hod Configs\n",
    "HOD_SERVER = \"http://localhost:47808/query\""
   ]
  },
  {
   "cell_type": "code",
   "execution_count": 113,
   "metadata": {
    "collapsed": false
   },
   "outputs": [
    {
     "name": "stdout",
     "output_type": "stream",
     "text": [
      "+ docker pull gtfierro/hod\n",
      "Using default tag: latest\n",
      "latest: Pulling from gtfierro/hod\n",
      "\u001b[0BDigest: sha256:d3cbaf3d37f868b35d7f6fecb553b154957c815e2bc79883cdbb2aabd1bfb98c\n",
      "Status: Image is up to date for gtfierro/hod:latest\n",
      "+ docker kill hod\n",
      "Error response from daemon: Cannot kill container hod: No such container: hod\n",
      "+ docker rm hod\n",
      "Error response from daemon: No such container: hod\n",
      "+ docker run -d --name hod -p47808:47808 gtfierro/hod\n",
      "6b4259c638d0675ed33e21bd36718db2051cb48afabb41d1e8214c415dc278c9\n"
     ]
    }
   ],
   "source": [
    "# run hod\n",
    "!cd hod; ./runserver.sh ; cd ..\n",
    "#!cd hod; docker kill hod ; docker rm hod; docker run -d --name hod -p47808:47808 gtfierro/hod"
   ]
  },
  {
   "cell_type": "code",
   "execution_count": 69,
   "metadata": {
    "collapsed": false
   },
   "outputs": [],
   "source": [
    "## query 0\n",
    "def hod_query_0():\n",
    "    resp = requests.post(HOD_SERVER, data=query0_hod)\n",
    "    if not resp.ok:\n",
    "        print resp, resp.reason\n",
    "        return None\n",
    "    return resp\n",
    "## query 1\n",
    "def hod_query_1():\n",
    "    resp = requests.post(HOD_SERVER, data=query1_hod)\n",
    "    if not resp.ok:\n",
    "        print resp, resp.reason\n",
    "        return None\n",
    "    return resp\n",
    "def hod_query_1_3x():\n",
    "    resp = requests.post(HOD_SERVER, data=query1_hod_3x)\n",
    "    if not resp.ok:\n",
    "        print resp, resp.reason\n",
    "        return None\n",
    "    return resp\n",
    "## query 2\n",
    "def hod_query_2():\n",
    "    resp = requests.post(HOD_SERVER, data=query2_hod)\n",
    "    if not resp.ok:\n",
    "        print resp, resp.reason\n",
    "        return None\n",
    "    return resp\n",
    "## query 3\n",
    "def hod_query_3():\n",
    "    resp = requests.post(HOD_SERVER, data=query3_hod)\n",
    "    if not resp.ok:\n",
    "        print resp, resp.reason\n",
    "        return None\n",
    "    return resp"
   ]
  },
  {
   "cell_type": "markdown",
   "metadata": {},
   "source": [
    "## Fuseki Benchmark"
   ]
  },
  {
   "cell_type": "code",
   "execution_count": 33,
   "metadata": {
    "collapsed": true
   },
   "outputs": [],
   "source": [
    "# Fuseki Configs\n",
    "FUSEKI_SERVER = \"http://localhost:3031/berkeley/query\""
   ]
  },
  {
   "cell_type": "code",
   "execution_count": 30,
   "metadata": {
    "collapsed": false
   },
   "outputs": [
    {
     "name": "stdout",
     "output_type": "stream",
     "text": [
      "+ docker pull gtfierro/fuseki\n",
      "Using default tag: latest\n",
      "latest: Pulling from gtfierro/fuseki\n",
      "\u001b[0BDigest: sha256:258ffe22f17a04e7792b8fedcb44f4b5b62df627958048f463d99ad26304b7d2\n",
      "Status: Image is up to date for gtfierro/fuseki:latest\n",
      "+ docker kill fuseki\n",
      "Error response from daemon: Cannot kill container fuseki: Container 0a84b11090cdd546a3e112c698c8b528a7b3c37568caba1886f350855c77e714 is not running\n",
      "+ docker rm fuseki\n",
      "fuseki\n",
      "+ docker run -d --name fuseki -p3031:3030 gtfierro/fuseki\n",
      "72a293a9af4cfe3f8aedd5c669cb0e309063dccf9a7b0c07122d372b143d4842\n"
     ]
    }
   ],
   "source": [
    "!cd fuseki; ./runserver.sh ; cd .."
   ]
  },
  {
   "cell_type": "code",
   "execution_count": 116,
   "metadata": {
    "collapsed": false
   },
   "outputs": [],
   "source": [
    "## query 0\n",
    "def fuseki_query_0():\n",
    "    resp = requests.post(FUSEKI_SERVER, params={'query':query0_sparql})\n",
    "    if not resp.ok:\n",
    "        print resp, resp.reason\n",
    "        return None\n",
    "    return resp\n",
    "## query 1\n",
    "def fuseki_query_1(iterations=1):\n",
    "    resp = requests.post(FUSEKI_SERVER, params={'query':query1_sparql})\n",
    "    if not resp.ok:\n",
    "        print resp, resp.reason\n",
    "        return None\n",
    "    return resp\n",
    "##\n",
    "# results:\n",
    "# run 1: 26,452.716 seconds\n",
    "\n",
    "## query 2\n",
    "def fuseki_query_2(iterations=1):\n",
    "    resp = requests.post(FUSEKI_SERVER, params={'query':query2_sparql})\n",
    "    if not resp.ok:\n",
    "        print resp, resp.reason\n",
    "        return None\n",
    "    return resp"
   ]
  },
  {
   "cell_type": "markdown",
   "metadata": {
    "collapsed": true
   },
   "source": [
    "## Alegrograph Benchmark"
   ]
  },
  {
   "cell_type": "code",
   "execution_count": 11,
   "metadata": {
    "collapsed": false
   },
   "outputs": [],
   "source": [
    "ALEGRO_SERVER = \"http://localhost:10035/repositories/berkeley/sparql\"\n",
    "auth = HTTPBasicAuth('root','asdfasdf')  "
   ]
  },
  {
   "cell_type": "code",
   "execution_count": 12,
   "metadata": {
    "collapsed": false
   },
   "outputs": [
    {
     "name": "stdout",
     "output_type": "stream",
     "text": [
      "+ docker pull gtfierro/alegrograph\n",
      "Using default tag: latest\n",
      "latest: Pulling from gtfierro/alegrograph\n",
      "\u001b[0BDigest: sha256:5bc1b9e90a8937934206c5ce2aefb2e7b4ff64387746356b449aa38add89d8f5\n",
      "Status: Image is up to date for gtfierro/alegrograph:latest\n",
      "+ docker kill alegrograph\n",
      "alegrograph\n",
      "+ docker rm alegrograph\n",
      "alegrograph\n",
      "+ docker run -d --name alegrograph -p10035:10035 gtfierro/alegrograph\n",
      "d3bfdc80432ed97c62affdfc2d3aca1b69bc45695cd4627e5791bc85dbc0285c\n"
     ]
    }
   ],
   "source": [
    "!cd alegrograph; ./runserver.sh ; cd .."
   ]
  },
  {
   "cell_type": "code",
   "execution_count": 43,
   "metadata": {
    "collapsed": false
   },
   "outputs": [],
   "source": [
    "def alegro_query_0():\n",
    "    resp = requests.post(ALEGRO_SERVER, data={'query': query0_sparql}, auth=auth)\n",
    "    if not resp.ok:\n",
    "        print resp, resp.reason\n",
    "        return None\n",
    "    return resp\n",
    "def alegro_query_1():\n",
    "    resp = requests.post(ALEGRO_SERVER, data={'query': query1_sparql}, auth=auth)\n",
    "    if not resp.ok:\n",
    "        print resp, resp.reason\n",
    "        return None\n",
    "    return resp\n",
    "def alegro_query_2():\n",
    "    resp = requests.post(ALEGRO_SERVER, data={'query': query2_sparql}, auth=auth)\n",
    "    if not resp.ok:\n",
    "        print resp, resp.reason\n",
    "        return None\n",
    "    return resp\n",
    "def alegro_query_3():\n",
    "    resp = requests.post(ALEGRO_SERVER, data={'query': query3_sparql}, auth=auth)\n",
    "    if not resp.ok:\n",
    "        print resp, resp.reason\n",
    "        return None\n",
    "    return resp"
   ]
  },
  {
   "cell_type": "markdown",
   "metadata": {
    "collapsed": true
   },
   "source": [
    "## RDF3X Benchmark"
   ]
  },
  {
   "cell_type": "code",
   "execution_count": 19,
   "metadata": {
    "collapsed": true
   },
   "outputs": [],
   "source": [
    "RDF3X_SERVER = \"http://localhost:8080/bar\""
   ]
  },
  {
   "cell_type": "code",
   "execution_count": 20,
   "metadata": {
    "collapsed": false
   },
   "outputs": [
    {
     "name": "stdout",
     "output_type": "stream",
     "text": [
      "+ docker pull gtfierro/rdf3x\n",
      "Using default tag: latest\n",
      "latest: Pulling from gtfierro/rdf3x\n",
      "\u001b[0BDigest: sha256:d2e7690aaf506da2a85b69c4370e9809f7d3a94c53bb99ffea60ed06a29a7ca6\n",
      "Status: Image is up to date for gtfierro/rdf3x:latest\n",
      "+ docker kill rdf3x\n",
      "rdf3x\n",
      "+ docker rm rdf3x\n",
      "rdf3x\n",
      "+ docker run -d --name rdf3x -p8080:8080 gtfierro/rdf3x\n",
      "bf2ee4475243511ef3fd4ae36a9ae83e8c96da45e76a540a34101b4c4427f254\n"
     ]
    }
   ],
   "source": [
    "!cd rdf3x; ./runserver.sh ; cd .."
   ]
  },
  {
   "cell_type": "code",
   "execution_count": 21,
   "metadata": {
    "collapsed": false
   },
   "outputs": [
    {
     "name": "stdout",
     "output_type": "stream",
     "text": [
      "0 6.95\n",
      "1 5.64\n",
      "2 6.50\n",
      "3 5.85\n",
      "4 5.81\n",
      "5 5.64\n",
      "6 5.59\n",
      "7 8.02\n",
      "8 5.83\n",
      "9 7.32\n",
      "Took 6.32ms\n"
     ]
    }
   ],
   "source": [
    "def rdf3x_query_0():\n",
    "    resp = requests.post(RDF3X_SERVER, data=query0_rdf3x)\n",
    "    if not resp.ok:\n",
    "        print resp, resp.reason\n",
    "        return None\n",
    "    return resp\n",
    "def rdf3x_query_1():\n",
    "    resp = requests.post(RDF3X_SERVER, data=query1_rdf3x)\n",
    "    if not resp.ok:\n",
    "        print resp, resp.reason\n",
    "        return None\n",
    "    return resp\n",
    "def rdf3x_query_2():\n",
    "    # multiply by 2 because of lack of UNION\n",
    "    resp = requests.post(RDF3X_SERVER, data=query2_rdf3x)\n",
    "    if not resp.ok:\n",
    "        print resp, resp.reason\n",
    "        return None\n",
    "    return resp\n",
    "def rdf3x_query_3():\n",
    "    resp = requests.post(RDF3X_SERVER, data=query3_rdf3x)\n",
    "    if not resp.ok:\n",
    "        print resp, resp.reason\n",
    "        return None\n",
    "    return resp"
   ]
  },
  {
   "cell_type": "markdown",
   "metadata": {
    "collapsed": true
   },
   "source": [
    "## rdflib Benchmark"
   ]
  },
  {
   "cell_type": "code",
   "execution_count": 25,
   "metadata": {
    "collapsed": true
   },
   "outputs": [],
   "source": [
    "RDFLIB_SERVER = \"http://localhost:8081/query\""
   ]
  },
  {
   "cell_type": "code",
   "execution_count": 26,
   "metadata": {
    "collapsed": false
   },
   "outputs": [
    {
     "name": "stdout",
     "output_type": "stream",
     "text": [
      "+ docker pull gtfierro/rdflib\n",
      "Using default tag: latest\n",
      "latest: Pulling from gtfierro/rdflib\n",
      "\u001b[0BDigest: sha256:45a315b24e52a74dd1bad984e79638595d9a7419c3bc0dc1be0e29f36c2cb6f1\n",
      "Status: Image is up to date for gtfierro/rdflib:latest\n",
      "+ docker kill rdflib\n",
      "rdflib\n",
      "+ docker rm rdflib\n",
      "rdflib\n",
      "+ docker run -d --name rdflib -p8081:8081 gtfierro/rdflib\n",
      "14130a46e909ce59c2b809e57ee9067d0616e0f53239a33daa55bb0eaa71f709\n"
     ]
    }
   ],
   "source": [
    "!cd rdflib; ./runserver.sh ; cd .."
   ]
  },
  {
   "cell_type": "code",
   "execution_count": 44,
   "metadata": {
    "collapsed": false
   },
   "outputs": [],
   "source": [
    "def rdflib_query_0():\n",
    "    resp = requests.post(RDFLIB_SERVER, data={'query': query0_sparql})\n",
    "    if not resp.ok:\n",
    "        print resp, resp.reason\n",
    "        return None\n",
    "    return resp\n",
    "def rdflib_query_1():\n",
    "    resp = requests.post(RDFLIB_SERVER, data={'query': query1_sparql})\n",
    "    if not resp.ok:\n",
    "        print resp, resp.reason\n",
    "        return None\n",
    "    return resp\n",
    "def rdflib_query_2():\n",
    "    resp = requests.post(RDFLIB_SERVER, data={'query': query2_sparql})\n",
    "    if not resp.ok:\n",
    "        print resp, resp.reason\n",
    "        return None\n",
    "    return resp\n",
    "def rdflib_query_3():\n",
    "    resp = requests.post(RDFLIB_SERVER, data={'query': query3_sparql})\n",
    "    if not resp.ok:\n",
    "        print resp, resp.reason\n",
    "        return None\n",
    "    return resp"
   ]
  },
  {
   "cell_type": "markdown",
   "metadata": {
    "collapsed": false
   },
   "source": [
    "# Benchmark Plots"
   ]
  },
  {
   "cell_type": "code",
   "execution_count": 78,
   "metadata": {
    "collapsed": false
   },
   "outputs": [
    {
     "name": "stdout",
     "output_type": "stream",
     "text": [
      "alegro\n",
      "hod\n",
      "rdflib\n",
      "rdf3x\n",
      "fuseki\n"
     ]
    }
   ],
   "source": [
    "# first get data for each query\n",
    "## query0\n",
    "R = {\n",
    "    'hod': hod_query_0,\n",
    "    'rdflib': rdflib_query_0,\n",
    "    'rdf3x': rdf3x_query_0,\n",
    "    'alegro': alegro_query_0,\n",
    "    'fuseki': fuseki_query_0,\n",
    "}\n",
    "data = {}\n",
    "for name, func in R.items():\n",
    "    print name\n",
    "    data[name] = get_runs(func, 100)"
   ]
  },
  {
   "cell_type": "code",
   "execution_count": 79,
   "metadata": {
    "collapsed": false
   },
   "outputs": [
    {
     "data": {
      "text/plain": [
       "<matplotlib.axes._subplots.AxesSubplot at 0x7fa002ff1810>"
      ]
     },
     "execution_count": 79,
     "metadata": {},
     "output_type": "execute_result"
    },
    {
     "data": {
      "image/png": "[encoded data removed]",
      "text/plain": [
       "<matplotlib.figure.Figure at 0x7fa002f67290>"
      ]
     },
     "metadata": {},
     "output_type": "display_data"
    }
   ],
   "source": [
    "df_q0 = pd.DataFrame.from_records(data)\n",
    "df_q0.plot()"
   ]
  },
  {
   "cell_type": "code",
   "execution_count": 80,
   "metadata": {
    "collapsed": false
   },
   "outputs": [
    {
     "data": {
      "text/html": [
       "<div>\n",
       "<table border=\"1\" class=\"dataframe\">\n",
       "  <thead>\n",
       "    <tr style=\"text-align: right;\">\n",
       "      <th></th>\n",
       "      <th>alegro</th>\n",
       "      <th>fuseki</th>\n",
       "      <th>hod</th>\n",
       "      <th>rdf3x</th>\n",
       "      <th>rdflib</th>\n",
       "    </tr>\n",
       "  </thead>\n",
       "  <tbody>\n",
       "    <tr>\n",
       "      <th>count</th>\n",
       "      <td>100.000000</td>\n",
       "      <td>100.000000</td>\n",
       "      <td>100.000000</td>\n",
       "      <td>100.000000</td>\n",
       "      <td>100.000000</td>\n",
       "    </tr>\n",
       "    <tr>\n",
       "      <th>mean</th>\n",
       "      <td>11.750254</td>\n",
       "      <td>12.594451</td>\n",
       "      <td>8.751934</td>\n",
       "      <td>7.074009</td>\n",
       "      <td>33.771265</td>\n",
       "    </tr>\n",
       "    <tr>\n",
       "      <th>std</th>\n",
       "      <td>3.615779</td>\n",
       "      <td>15.864267</td>\n",
       "      <td>1.763847</td>\n",
       "      <td>1.098858</td>\n",
       "      <td>6.591821</td>\n",
       "    </tr>\n",
       "    <tr>\n",
       "      <th>min</th>\n",
       "      <td>8.232178</td>\n",
       "      <td>7.492920</td>\n",
       "      <td>6.500000</td>\n",
       "      <td>5.715820</td>\n",
       "      <td>29.140137</td>\n",
       "    </tr>\n",
       "    <tr>\n",
       "      <th>25%</th>\n",
       "      <td>10.201111</td>\n",
       "      <td>8.668274</td>\n",
       "      <td>7.638062</td>\n",
       "      <td>6.518311</td>\n",
       "      <td>30.319824</td>\n",
       "    </tr>\n",
       "    <tr>\n",
       "      <th>50%</th>\n",
       "      <td>11.221436</td>\n",
       "      <td>9.071533</td>\n",
       "      <td>8.426025</td>\n",
       "      <td>6.835083</td>\n",
       "      <td>31.032349</td>\n",
       "    </tr>\n",
       "    <tr>\n",
       "      <th>75%</th>\n",
       "      <td>12.495667</td>\n",
       "      <td>10.303101</td>\n",
       "      <td>9.301453</td>\n",
       "      <td>7.283203</td>\n",
       "      <td>32.812256</td>\n",
       "    </tr>\n",
       "    <tr>\n",
       "      <th>max</th>\n",
       "      <td>40.856201</td>\n",
       "      <td>157.153809</td>\n",
       "      <td>18.402832</td>\n",
       "      <td>14.593994</td>\n",
       "      <td>55.696777</td>\n",
       "    </tr>\n",
       "  </tbody>\n",
       "</table>\n",
       "</div>"
      ],
      "text/plain": [
       "           alegro      fuseki         hod       rdf3x      rdflib\n",
       "count  100.000000  100.000000  100.000000  100.000000  100.000000\n",
       "mean    11.750254   12.594451    8.751934    7.074009   33.771265\n",
       "std      3.615779   15.864267    1.763847    1.098858    6.591821\n",
       "min      8.232178    7.492920    6.500000    5.715820   29.140137\n",
       "25%     10.201111    8.668274    7.638062    6.518311   30.319824\n",
       "50%     11.221436    9.071533    8.426025    6.835083   31.032349\n",
       "75%     12.495667   10.303101    9.301453    7.283203   32.812256\n",
       "max     40.856201  157.153809   18.402832   14.593994   55.696777"
      ]
     },
     "execution_count": 80,
     "metadata": {},
     "output_type": "execute_result"
    }
   ],
   "source": [
    "df_q0.describe()"
   ]
  },
  {
   "cell_type": "markdown",
   "metadata": {},
   "source": [
    "#### Query 1\n",
    "We ignore fuseki for the time being because it takes FOREVER"
   ]
  },
  {
   "cell_type": "code",
   "execution_count": 101,
   "metadata": {
    "collapsed": false
   },
   "outputs": [
    {
     "name": "stdout",
     "output_type": "stream",
     "text": [
      "alegro\n",
      "hod\n",
      "rdflib\n",
      "rdf3x\n"
     ]
    }
   ],
   "source": [
    "# first get data for each query\n",
    "## query1\n",
    "R = {\n",
    "    'hod': hod_query_1,\n",
    "    'rdflib': rdflib_query_1,\n",
    "    'rdf3x': rdf3x_query_1,\n",
    "    'alegro': alegro_query_1,\n",
    "}\n",
    "data = {}\n",
    "for name, func in R.items():\n",
    "    print name\n",
    "    data[name] = get_runs(func, 100)"
   ]
  },
  {
   "cell_type": "code",
   "execution_count": 102,
   "metadata": {
    "collapsed": false
   },
   "outputs": [
    {
     "data": {
      "text/plain": [
       "<matplotlib.axes._subplots.AxesSubplot at 0x7f9fe0d1fc10>"
      ]
     },
     "execution_count": 102,
     "metadata": {},
     "output_type": "execute_result"
    },
    {
     "data": {
      "image/png": "[encoded data removed]",
      "text/plain": [
       "<matplotlib.figure.Figure at 0x7f9fe0dab150>"
      ]
     },
     "metadata": {},
     "output_type": "display_data"
    }
   ],
   "source": [
    "df_q1 = pd.DataFrame.from_records(data)\n",
    "df_q1[['hod','rdf3x']].plot()"
   ]
  },
  {
   "cell_type": "code",
   "execution_count": 103,
   "metadata": {
    "collapsed": false
   },
   "outputs": [
    {
     "data": {
      "text/html": [
       "<div>\n",
       "<table border=\"1\" class=\"dataframe\">\n",
       "  <thead>\n",
       "    <tr style=\"text-align: right;\">\n",
       "      <th></th>\n",
       "      <th>alegro</th>\n",
       "      <th>hod</th>\n",
       "      <th>rdf3x</th>\n",
       "      <th>rdflib</th>\n",
       "    </tr>\n",
       "  </thead>\n",
       "  <tbody>\n",
       "    <tr>\n",
       "      <th>count</th>\n",
       "      <td>100.000000</td>\n",
       "      <td>100.000000</td>\n",
       "      <td>100.000000</td>\n",
       "      <td>100.000000</td>\n",
       "    </tr>\n",
       "    <tr>\n",
       "      <th>mean</th>\n",
       "      <td>1714.379646</td>\n",
       "      <td>18.665830</td>\n",
       "      <td>9.862627</td>\n",
       "      <td>11967.274585</td>\n",
       "    </tr>\n",
       "    <tr>\n",
       "      <th>std</th>\n",
       "      <td>22.556694</td>\n",
       "      <td>5.122650</td>\n",
       "      <td>11.558470</td>\n",
       "      <td>147.190327</td>\n",
       "    </tr>\n",
       "    <tr>\n",
       "      <th>min</th>\n",
       "      <td>1684.768066</td>\n",
       "      <td>11.681152</td>\n",
       "      <td>7.147217</td>\n",
       "      <td>11637.326172</td>\n",
       "    </tr>\n",
       "    <tr>\n",
       "      <th>25%</th>\n",
       "      <td>1699.531616</td>\n",
       "      <td>15.138062</td>\n",
       "      <td>7.999390</td>\n",
       "      <td>11876.560730</td>\n",
       "    </tr>\n",
       "    <tr>\n",
       "      <th>50%</th>\n",
       "      <td>1709.858398</td>\n",
       "      <td>16.333130</td>\n",
       "      <td>8.291992</td>\n",
       "      <td>11961.596436</td>\n",
       "    </tr>\n",
       "    <tr>\n",
       "      <th>75%</th>\n",
       "      <td>1722.078796</td>\n",
       "      <td>19.880066</td>\n",
       "      <td>8.776917</td>\n",
       "      <td>12077.251587</td>\n",
       "    </tr>\n",
       "    <tr>\n",
       "      <th>max</th>\n",
       "      <td>1808.288818</td>\n",
       "      <td>34.593018</td>\n",
       "      <td>122.168945</td>\n",
       "      <td>12369.259033</td>\n",
       "    </tr>\n",
       "  </tbody>\n",
       "</table>\n",
       "</div>"
      ],
      "text/plain": [
       "            alegro         hod       rdf3x        rdflib\n",
       "count   100.000000  100.000000  100.000000    100.000000\n",
       "mean   1714.379646   18.665830    9.862627  11967.274585\n",
       "std      22.556694    5.122650   11.558470    147.190327\n",
       "min    1684.768066   11.681152    7.147217  11637.326172\n",
       "25%    1699.531616   15.138062    7.999390  11876.560730\n",
       "50%    1709.858398   16.333130    8.291992  11961.596436\n",
       "75%    1722.078796   19.880066    8.776917  12077.251587\n",
       "max    1808.288818   34.593018  122.168945  12369.259033"
      ]
     },
     "execution_count": 103,
     "metadata": {},
     "output_type": "execute_result"
    }
   ],
   "source": [
    "df_q1.describe()"
   ]
  },
  {
   "cell_type": "markdown",
   "metadata": {
    "collapsed": true
   },
   "source": [
    "### Query 2"
   ]
  },
  {
   "cell_type": "code",
   "execution_count": 104,
   "metadata": {
    "collapsed": false
   },
   "outputs": [
    {
     "name": "stdout",
     "output_type": "stream",
     "text": [
      "alegro\n",
      "hod\n",
      "rdflib\n",
      "rdf3x\n"
     ]
    }
   ],
   "source": [
    "# first get data for each query\n",
    "## query2\n",
    "R = {\n",
    "    'hod': hod_query_2,\n",
    "    'rdflib': rdflib_query_2,\n",
    "    'rdf3x': rdf3x_query_2,\n",
    "    'alegro': alegro_query_2,\n",
    "}\n",
    "data = {}\n",
    "for name, func in R.items():\n",
    "    print name\n",
    "    data[name] = get_runs(func, 100)"
   ]
  },
  {
   "cell_type": "code",
   "execution_count": 105,
   "metadata": {
    "collapsed": false
   },
   "outputs": [
    {
     "data": {
      "text/plain": [
       "<matplotlib.axes._subplots.AxesSubplot at 0x7f9fe0dc5b90>"
      ]
     },
     "execution_count": 105,
     "metadata": {},
     "output_type": "execute_result"
    },
    {
     "data": {
      "image/png": "[encoded data removed]",
      "text/plain": [
       "<matplotlib.figure.Figure at 0x7f9fe10b4e10>"
      ]
     },
     "metadata": {},
     "output_type": "display_data"
    }
   ],
   "source": [
    "df_q2 = pd.DataFrame.from_records(data)\n",
    "df_q2.plot()"
   ]
  },
  {
   "cell_type": "code",
   "execution_count": 106,
   "metadata": {
    "collapsed": false
   },
   "outputs": [
    {
     "data": {
      "text/html": [
       "<div>\n",
       "<table border=\"1\" class=\"dataframe\">\n",
       "  <thead>\n",
       "    <tr style=\"text-align: right;\">\n",
       "      <th></th>\n",
       "      <th>alegro</th>\n",
       "      <th>hod</th>\n",
       "      <th>rdf3x</th>\n",
       "      <th>rdflib</th>\n",
       "    </tr>\n",
       "  </thead>\n",
       "  <tbody>\n",
       "    <tr>\n",
       "      <th>count</th>\n",
       "      <td>100.000000</td>\n",
       "      <td>100.000000</td>\n",
       "      <td>100.000000</td>\n",
       "      <td>100.000000</td>\n",
       "    </tr>\n",
       "    <tr>\n",
       "      <th>mean</th>\n",
       "      <td>786.149702</td>\n",
       "      <td>17.533403</td>\n",
       "      <td>7.548213</td>\n",
       "      <td>6036.769246</td>\n",
       "    </tr>\n",
       "    <tr>\n",
       "      <th>std</th>\n",
       "      <td>30.452677</td>\n",
       "      <td>3.098643</td>\n",
       "      <td>2.456888</td>\n",
       "      <td>95.883228</td>\n",
       "    </tr>\n",
       "    <tr>\n",
       "      <th>min</th>\n",
       "      <td>758.904053</td>\n",
       "      <td>12.201172</td>\n",
       "      <td>6.065186</td>\n",
       "      <td>5816.015869</td>\n",
       "    </tr>\n",
       "    <tr>\n",
       "      <th>25%</th>\n",
       "      <td>769.608582</td>\n",
       "      <td>15.593323</td>\n",
       "      <td>6.632324</td>\n",
       "      <td>5973.151123</td>\n",
       "    </tr>\n",
       "    <tr>\n",
       "      <th>50%</th>\n",
       "      <td>777.875610</td>\n",
       "      <td>17.560547</td>\n",
       "      <td>7.156982</td>\n",
       "      <td>6034.368164</td>\n",
       "    </tr>\n",
       "    <tr>\n",
       "      <th>75%</th>\n",
       "      <td>789.544373</td>\n",
       "      <td>18.504700</td>\n",
       "      <td>7.517273</td>\n",
       "      <td>6099.054260</td>\n",
       "    </tr>\n",
       "    <tr>\n",
       "      <th>max</th>\n",
       "      <td>940.198975</td>\n",
       "      <td>28.770020</td>\n",
       "      <td>29.229736</td>\n",
       "      <td>6342.371826</td>\n",
       "    </tr>\n",
       "  </tbody>\n",
       "</table>\n",
       "</div>"
      ],
      "text/plain": [
       "           alegro         hod       rdf3x       rdflib\n",
       "count  100.000000  100.000000  100.000000   100.000000\n",
       "mean   786.149702   17.533403    7.548213  6036.769246\n",
       "std     30.452677    3.098643    2.456888    95.883228\n",
       "min    758.904053   12.201172    6.065186  5816.015869\n",
       "25%    769.608582   15.593323    6.632324  5973.151123\n",
       "50%    777.875610   17.560547    7.156982  6034.368164\n",
       "75%    789.544373   18.504700    7.517273  6099.054260\n",
       "max    940.198975   28.770020   29.229736  6342.371826"
      ]
     },
     "execution_count": 106,
     "metadata": {},
     "output_type": "execute_result"
    }
   ],
   "source": [
    "df_q2.describe()"
   ]
  },
  {
   "cell_type": "markdown",
   "metadata": {},
   "source": [
    "### Query 3"
   ]
  },
  {
   "cell_type": "code",
   "execution_count": 107,
   "metadata": {
    "collapsed": false
   },
   "outputs": [
    {
     "name": "stdout",
     "output_type": "stream",
     "text": [
      "alegro\n",
      "hod\n",
      "rdflib\n",
      "rdf3x\n"
     ]
    }
   ],
   "source": [
    "# first get data for each query\n",
    "## query3\n",
    "R = {\n",
    "    'hod': hod_query_3,\n",
    "    'rdflib': rdflib_query_3,\n",
    "    'rdf3x': rdf3x_query_3,\n",
    "    'alegro': alegro_query_3,\n",
    "}\n",
    "data = {}\n",
    "for name, func in R.items():\n",
    "    print name\n",
    "    data[name] = get_runs(func, 100)"
   ]
  },
  {
   "cell_type": "code",
   "execution_count": 108,
   "metadata": {
    "collapsed": false
   },
   "outputs": [
    {
     "data": {
      "text/plain": [
       "<matplotlib.axes._subplots.AxesSubplot at 0x7f9fe10b49d0>"
      ]
     },
     "execution_count": 108,
     "metadata": {},
     "output_type": "execute_result"
    },
    {
     "data": {
      "image/png": "[encoded data removed]",
      "text/plain": [
       "<matplotlib.figure.Figure at 0x7fa0013588d0>"
      ]
     },
     "metadata": {},
     "output_type": "display_data"
    }
   ],
   "source": [
    "df_q3 = pd.DataFrame.from_records(data)\n",
    "df_q3.plot()"
   ]
  },
  {
   "cell_type": "code",
   "execution_count": 109,
   "metadata": {
    "collapsed": false
   },
   "outputs": [
    {
     "data": {
      "text/html": [
       "<div>\n",
       "<table border=\"1\" class=\"dataframe\">\n",
       "  <thead>\n",
       "    <tr style=\"text-align: right;\">\n",
       "      <th></th>\n",
       "      <th>alegro</th>\n",
       "      <th>hod</th>\n",
       "      <th>rdf3x</th>\n",
       "      <th>rdflib</th>\n",
       "    </tr>\n",
       "  </thead>\n",
       "  <tbody>\n",
       "    <tr>\n",
       "      <th>count</th>\n",
       "      <td>100.000000</td>\n",
       "      <td>100.000000</td>\n",
       "      <td>100.000000</td>\n",
       "      <td>100.000000</td>\n",
       "    </tr>\n",
       "    <tr>\n",
       "      <th>mean</th>\n",
       "      <td>109.666213</td>\n",
       "      <td>28.348484</td>\n",
       "      <td>9.254336</td>\n",
       "      <td>421.214050</td>\n",
       "    </tr>\n",
       "    <tr>\n",
       "      <th>std</th>\n",
       "      <td>10.021782</td>\n",
       "      <td>5.071089</td>\n",
       "      <td>5.284033</td>\n",
       "      <td>27.618357</td>\n",
       "    </tr>\n",
       "    <tr>\n",
       "      <th>min</th>\n",
       "      <td>98.197021</td>\n",
       "      <td>20.241943</td>\n",
       "      <td>7.453857</td>\n",
       "      <td>386.238037</td>\n",
       "    </tr>\n",
       "    <tr>\n",
       "      <th>25%</th>\n",
       "      <td>101.075989</td>\n",
       "      <td>23.072449</td>\n",
       "      <td>8.016296</td>\n",
       "      <td>401.338501</td>\n",
       "    </tr>\n",
       "    <tr>\n",
       "      <th>50%</th>\n",
       "      <td>106.740479</td>\n",
       "      <td>30.204468</td>\n",
       "      <td>8.403076</td>\n",
       "      <td>413.494385</td>\n",
       "    </tr>\n",
       "    <tr>\n",
       "      <th>75%</th>\n",
       "      <td>117.309509</td>\n",
       "      <td>31.109375</td>\n",
       "      <td>8.997559</td>\n",
       "      <td>433.575867</td>\n",
       "    </tr>\n",
       "    <tr>\n",
       "      <th>max</th>\n",
       "      <td>136.212158</td>\n",
       "      <td>41.435059</td>\n",
       "      <td>59.972900</td>\n",
       "      <td>521.489746</td>\n",
       "    </tr>\n",
       "  </tbody>\n",
       "</table>\n",
       "</div>"
      ],
      "text/plain": [
       "           alegro         hod       rdf3x      rdflib\n",
       "count  100.000000  100.000000  100.000000  100.000000\n",
       "mean   109.666213   28.348484    9.254336  421.214050\n",
       "std     10.021782    5.071089    5.284033   27.618357\n",
       "min     98.197021   20.241943    7.453857  386.238037\n",
       "25%    101.075989   23.072449    8.016296  401.338501\n",
       "50%    106.740479   30.204468    8.403076  413.494385\n",
       "75%    117.309509   31.109375    8.997559  433.575867\n",
       "max    136.212158   41.435059   59.972900  521.489746"
      ]
     },
     "execution_count": 109,
     "metadata": {},
     "output_type": "execute_result"
    }
   ],
   "source": [
    "df_q3.describe()"
   ]
  },
  {
   "cell_type": "code",
   "execution_count": 114,
   "metadata": {
    "collapsed": false
   },
   "outputs": [
    {
     "name": "stdout",
     "output_type": "stream",
     "text": [
      "hod\n",
      "rdf3x\n"
     ]
    },
    {
     "data": {
      "text/html": [
       "<div>\n",
       "<table border=\"1\" class=\"dataframe\">\n",
       "  <thead>\n",
       "    <tr style=\"text-align: right;\">\n",
       "      <th></th>\n",
       "      <th>hod</th>\n",
       "      <th>rdf3x</th>\n",
       "    </tr>\n",
       "  </thead>\n",
       "  <tbody>\n",
       "    <tr>\n",
       "      <th>count</th>\n",
       "      <td>100.000000</td>\n",
       "      <td>100.000000</td>\n",
       "    </tr>\n",
       "    <tr>\n",
       "      <th>mean</th>\n",
       "      <td>31.707954</td>\n",
       "      <td>9.130366</td>\n",
       "    </tr>\n",
       "    <tr>\n",
       "      <th>std</th>\n",
       "      <td>7.539642</td>\n",
       "      <td>4.217573</td>\n",
       "    </tr>\n",
       "    <tr>\n",
       "      <th>min</th>\n",
       "      <td>21.716064</td>\n",
       "      <td>7.354980</td>\n",
       "    </tr>\n",
       "    <tr>\n",
       "      <th>25%</th>\n",
       "      <td>24.666138</td>\n",
       "      <td>8.117065</td>\n",
       "    </tr>\n",
       "    <tr>\n",
       "      <th>50%</th>\n",
       "      <td>33.484985</td>\n",
       "      <td>8.449829</td>\n",
       "    </tr>\n",
       "    <tr>\n",
       "      <th>75%</th>\n",
       "      <td>35.048584</td>\n",
       "      <td>8.959839</td>\n",
       "    </tr>\n",
       "    <tr>\n",
       "      <th>max</th>\n",
       "      <td>67.113037</td>\n",
       "      <td>48.890137</td>\n",
       "    </tr>\n",
       "  </tbody>\n",
       "</table>\n",
       "</div>"
      ],
      "text/plain": [
       "              hod       rdf3x\n",
       "count  100.000000  100.000000\n",
       "mean    31.707954    9.130366\n",
       "std      7.539642    4.217573\n",
       "min     21.716064    7.354980\n",
       "25%     24.666138    8.117065\n",
       "50%     33.484985    8.449829\n",
       "75%     35.048584    8.959839\n",
       "max     67.113037   48.890137"
      ]
     },
     "execution_count": 114,
     "metadata": {},
     "output_type": "execute_result"
    },
    {
     "data": {
      "image/png": "[encoded data removed]",
      "text/plain": [
       "<matplotlib.figure.Figure at 0x7fa0012ff590>"
      ]
     },
     "metadata": {},
     "output_type": "display_data"
    }
   ],
   "source": [
    "# first get data for each query\n",
    "## query1\n",
    "R = {\n",
    "    'hod': hod_query_1_3x,\n",
    "    'rdf3x': rdf3x_query_1,\n",
    "}\n",
    "data = {}\n",
    "for name, func in R.items():\n",
    "    print name\n",
    "    data[name] = get_runs(func, 100)\n",
    "df = pd.DataFrame.from_records(data)\n",
    "df.plot()\n",
    "df.describe()"
   ]
  },
  {
   "cell_type": "code",
   "execution_count": 115,
   "metadata": {
    "collapsed": false
   },
   "outputs": [
    {
     "name": "stdout",
     "output_type": "stream",
     "text": [
      "Axes(0.125,0.125;0.775x0.775)\n"
     ]
    },
    {
     "data": {
      "image/png": "[encoded data removed]",
      "text/plain": [
       "<matplotlib.figure.Figure at 0x7fa002f00150>"
      ]
     },
     "metadata": {},
     "output_type": "display_data"
    }
   ],
   "source": [
    "fig = plt.figure()\n",
    "ax = fig.add_subplot(111)\n",
    "print ax\n",
    "for col, vals in df.iteritems():\n",
    "    vals.hist(ax=ax,bins=10)"
   ]
  },
  {
   "cell_type": "code",
   "execution_count": null,
   "metadata": {
    "collapsed": true
   },
   "outputs": [],
   "source": []
  }
 ],
 "metadata": {
  "kernelspec": {
   "display_name": "Python 2",
   "language": "python",
   "name": "python2"
  },
  "language_info": {
   "codemirror_mode": {
    "name": "ipython",
    "version": 2
   },
   "file_extension": ".py",
   "mimetype": "text/x-python",
   "name": "python",
   "nbconvert_exporter": "python",
   "pygments_lexer": "ipython2",
   "version": "2.7.12"
  }
 },
 "nbformat": 4,
 "nbformat_minor": 0
}
