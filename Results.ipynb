{
 "cells": [
  {
   "cell_type": "code",
   "execution_count": 1,
   "metadata": {
    "collapsed": true
   },
   "outputs": [],
   "source": [
    "import pandas as pd\n",
    "from matplotlib import pyplot as plt\n",
    "import requests\n",
    "from requests.auth import HTTPBasicAuth\n",
    "import time\n",
    "%matplotlib inline"
   ]
  },
  {
   "cell_type": "code",
   "execution_count": 2,
   "metadata": {
    "collapsed": true
   },
   "outputs": [],
   "source": [
    "NUM_ITERATIONS = 10\n",
    "def avg(l):\n",
    "    return float(sum(l))/(len(l))"
   ]
  },
  {
   "cell_type": "code",
   "execution_count": 3,
   "metadata": {
    "collapsed": true
   },
   "outputs": [],
   "source": [
    "query0_sparql = \"\"\"\n",
    "PREFIX rdf: <http://www.w3.org/1999/02/22-rdf-syntax-ns#>\n",
    "PREFIX rdfs: <http://www.w3.org/2000/01/rdf-schema#>\n",
    "PREFIX brick: <http://buildsys.org/ontologies/Brick#> \n",
    "PREFIX bf: <http://buildsys.org/ontologies/BrickFrame#> \n",
    "SELECT DISTINCT ?vav\n",
    "WHERE {\n",
    "    ?vav rdf:type brick:VAV .\n",
    "}\n",
    "\"\"\"\n",
    "\n",
    "query0_hod = \"\"\"\n",
    "SELECT ?vav\n",
    "WHERE {\n",
    "    ?vav rdf:type brick:VAV .\n",
    "};\n",
    "\"\"\"\n",
    "\n",
    "query0_rdf3x = query0_sparql\n",
    "\n",
    "query1_sparql = \"\"\"\n",
    "PREFIX rdf: <http://www.w3.org/1999/02/22-rdf-syntax-ns#>\n",
    "PREFIX rdfs: <http://www.w3.org/2000/01/rdf-schema#>\n",
    "PREFIX brick: <http://buildsys.org/ontologies/Brick#> \n",
    "PREFIX bf: <http://buildsys.org/ontologies/BrickFrame#> \n",
    "SELECT DISTINCT ?sensor ?room\n",
    "WHERE {\n",
    "\n",
    "    ?sensor rdf:type/rdfs:subClassOf* brick:Zone_Temperature_Sensor .\n",
    "    ?room rdf:type brick:Room .\n",
    "    ?vav rdf:type brick:VAV .\n",
    "    ?zone rdf:type brick:HVAC_Zone .\n",
    "\n",
    "    ?vav bf:feeds+ ?zone .\n",
    "    ?zone bf:hasPart ?room .\n",
    "\n",
    "    {?sensor bf:isPointOf ?vav }\n",
    "    UNION\n",
    "    {?sensor bf:isPointOf ?room }\n",
    "}\n",
    "\"\"\"\n",
    "query1_hod = \"\"\"\n",
    "SELECT ?sensor ?room\n",
    "WHERE {\n",
    "    ?sensor rdf:type/rdfs:subClassOf* brick:Zone_Temperature_Sensor .\n",
    "    ?room rdf:type brick:Room .\n",
    "    ?vav rdf:type brick:VAV .\n",
    "    ?zone rdf:type brick:HVAC_Zone .\n",
    "\n",
    "    ?vav bf:feeds+ ?zone .\n",
    "    ?zone bf:hasPart ?room .\n",
    "\n",
    "    { ?sensor bf:isPointOf ?vav .\n",
    "    OR\n",
    "    ?sensor bf:isPointOf ?room . }\n",
    "};\n",
    "\"\"\"\n",
    "query1_rdf3x = \"\"\"\n",
    "PREFIX rdf: <http://www.w3.org/1999/02/22-rdf-syntax-ns#>\n",
    "PREFIX rdfs: <http://www.w3.org/2000/01/rdf-schema#>\n",
    "PREFIX brick: <http://buildsys.org/ontologies/Brick#> \n",
    "PREFIX bf: <http://buildsys.org/ontologies/BrickFrame#> \n",
    "SELECT DISTINCT ?sensor ?room\n",
    "WHERE {\n",
    "     ?sensor rdf:type brick:ZoneTemperatureSensor .\n",
    "     ?room rdf:type brick:Room .\n",
    "     ?vav rdf:type brick:VAV .\n",
    "     ?zone rdf:type brick:HVACZone .\n",
    "     ?vav bf:feeds ?zone .\n",
    "     ?zone bf:hasPart ?room .\n",
    "     ?vav bf:hasPoint ?sensor .\n",
    "}\n",
    "\"\"\"\n",
    "\n",
    "query2_sparql = \"\"\"\n",
    "PREFIX rdf: <http://www.w3.org/1999/02/22-rdf-syntax-ns#>\n",
    "PREFIX rdfs: <http://www.w3.org/2000/01/rdf-schema#>\n",
    "PREFIX brick: <http://buildsys.org/ontologies/Brick#> \n",
    "PREFIX bf: <http://buildsys.org/ontologies/BrickFrame#> \n",
    "SELECT ?vlv_cmd ?vav\n",
    "WHERE {\n",
    "    {\n",
    "      { ?vlv_cmd rdf:type brick:Reheat_Valve_Command }\n",
    "      UNION\n",
    "      { ?vlv_cmd rdf:type brick:Cooling_Valve_Command }\n",
    "    }\n",
    "    ?vav rdf:type brick:VAV .\n",
    "    ?vav bf:hasPoint+ ?vlv_cmd .\n",
    "}\n",
    "\"\"\"\n",
    "query2_hod = \"\"\"\n",
    "SELECT ?vlv_cmd ?vav\n",
    "WHERE {\n",
    "    {\n",
    "      { \n",
    "      ?vlv_cmd rdf:type brick:Reheat_Valve_Command .\n",
    "      OR\n",
    "      ?vlv_cmd rdf:type brick:Cooling_Valve_Command .\n",
    "      }\n",
    "    }\n",
    "    ?vav rdf:type brick:VAV .\n",
    "    ?vav bf:hasPoint+ ?vlv_cmd .\n",
    "};\n",
    "\"\"\"\n",
    "query2_rdf3x = \"\"\"\n",
    "PREFIX rdf: <http://www.w3.org/1999/02/22-rdf-syntax-ns#>\n",
    "PREFIX rdfs: <http://www.w3.org/2000/01/rdf-schema#>\n",
    "PREFIX brick: <http://buildsys.org/ontologies/Brick#> \n",
    "PREFIX bf: <http://buildsys.org/ontologies/BrickFrame#> \n",
    "SELECT ?vlvcmd ?vav\n",
    "WHERE {\n",
    "    ?vlvcmd rdf:type brick:ReheatValveCommand .\n",
    "      #UNION\n",
    "      #{ ?vlvcmd rdf:type brick:CoolingValveCommand }\n",
    "    ?vav rdf:type brick:VAV .\n",
    "    ?vav bf:hasPoint ?vlvcmd .\n",
    "}\n",
    "\"\"\"\n",
    "\n",
    "query3_sparql = \"\"\"\n",
    "PREFIX rdf: <http://www.w3.org/1999/02/22-rdf-syntax-ns#>\n",
    "PREFIX rdfs: <http://www.w3.org/2000/01/rdf-schema#>\n",
    "PREFIX brick: <http://buildsys.org/ontologies/Brick#> \n",
    "PREFIX bf: <http://buildsys.org/ontologies/BrickFrame#> \n",
    "SELECT ?floor ?room ?zone\n",
    "WHERE {\n",
    "    ?floor rdf:type brick:Floor .\n",
    "    ?room rdf:type brick:Room .\n",
    "    ?zone rdf:type brick:HVAC_Zone .\n",
    "\n",
    "    ?room bf:isPartOf+ ?floor .\n",
    "    ?room bf:isPartOf+ ?zone .\n",
    "}\n",
    "\"\"\"\n",
    "query3_hod = \"\"\"\n",
    "SELECT ?floor ?room ?zone\n",
    "WHERE {\n",
    "    ?floor rdf:type brick:Floor .\n",
    "    ?room rdf:type brick:Room .\n",
    "    ?zone rdf:type brick:HVAC_Zone .\n",
    "\n",
    "    ?room bf:isPartOf+ ?floor .\n",
    "    ?room bf:isPartOf+ ?zone .\n",
    "};\n",
    "\"\"\"\n",
    "query3_rdf3x = \"\"\"\n",
    "PREFIX rdf: <http://www.w3.org/1999/02/22-rdf-syntax-ns#>\n",
    "PREFIX rdfs: <http://www.w3.org/2000/01/rdf-schema#>\n",
    "PREFIX brick: <http://buildsys.org/ontologies/Brick#> \n",
    "PREFIX bf: <http://buildsys.org/ontologies/BrickFrame#> \n",
    "SELECT ?floor ?room ?zone\n",
    "WHERE {\n",
    "    ?floor rdf:type brick:Floor .\n",
    "    ?room rdf:type brick:Room .\n",
    "    ?zone rdf:type brick:HVACZone .\n",
    "    ?room bf:isPartOf ?floor .\n",
    "    ?zone bf:hasPart ?room .\n",
    "}\n",
    "\"\"\""
   ]
  },
  {
   "cell_type": "code",
   "execution_count": 4,
   "metadata": {
    "collapsed": true
   },
   "outputs": [],
   "source": [
    "# runs function for some iterations and prints average\n",
    "def run(func, show_first=False, iterations=NUM_ITERATIONS):\n",
    "    query_times = []\n",
    "    for i in range(iterations):\n",
    "        t1 = time.time()*1000\n",
    "        resp = func()\n",
    "        t2 = time.time()*1000\n",
    "        if resp is None: break\n",
    "        if i == 0 and show_first: print resp.content\n",
    "        query_times.append(t2-t1)\n",
    "        print i, '{0:.2f}'.format(t2-t1)\n",
    "        time.sleep(.5)\n",
    "    query_avg = avg(query_times)\n",
    "    print \"Took {0:.2f}ms\".format(query_avg)"
   ]
  },
  {
   "cell_type": "code",
   "execution_count": 38,
   "metadata": {
    "collapsed": true
   },
   "outputs": [],
   "source": [
    "def get_runs(func, iterations=NUM_ITERATIONS):\n",
    "    runs = []\n",
    "    for i in range(iterations):\n",
    "        t1 = time.time()*1000\n",
    "        resp = func()\n",
    "        t2 = time.time()*1000\n",
    "        if resp is None: break\n",
    "        runs.append(t2-t1)\n",
    "        time.sleep(0.5)\n",
    "    return runs"
   ]
  },
  {
   "cell_type": "markdown",
   "metadata": {},
   "source": [
    "## Hod Benchmark"
   ]
  },
  {
   "cell_type": "code",
   "execution_count": 5,
   "metadata": {
    "collapsed": true
   },
   "outputs": [],
   "source": [
    "# Hod Configs\n",
    "HOD_SERVER = \"http://localhost:47808/query\""
   ]
  },
  {
   "cell_type": "code",
   "execution_count": 6,
   "metadata": {
    "collapsed": false
   },
   "outputs": [
    {
     "name": "stdout",
     "output_type": "stream",
     "text": [
      "+ docker pull gtfierro/hod\n",
      "Using default tag: latest\n",
      "latest: Pulling from gtfierro/hod\n",
      "\u001b[0BDigest: sha256:08d6d8a894838ee06f0b0dad781093b0ce827d172e89f4c3887b0ae0531bf3a7\n",
      "Status: Image is up to date for gtfierro/hod:latest\n",
      "+ docker kill hod\n",
      "hod\n",
      "+ docker rm hod\n",
      "hod\n",
      "+ docker run -d --name hod -p47808:47808 gtfierro/hod\n",
      "1f06c8114e60936cd8203f57162b1a7c7bfbc12d6c22b24ab422da1dd0568113\n"
     ]
    }
   ],
   "source": [
    "# run hod\n",
    "!cd hod; ./runserver.sh ; cd ..\n",
    "#!cd hod; docker kill hod ; docker rm hod; docker run -d --name hod -p47808:47808 gtfierro/hod"
   ]
  },
  {
   "cell_type": "code",
   "execution_count": 41,
   "metadata": {
    "collapsed": false
   },
   "outputs": [],
   "source": [
    "## query 0\n",
    "def hod_query_0():\n",
    "    resp = requests.post(HOD_SERVER, data=query0_hod)\n",
    "    if not resp.ok:\n",
    "        print resp, resp.reason\n",
    "        return None\n",
    "    return resp\n",
    "## query 1\n",
    "def hod_query_1():\n",
    "    resp = requests.post(HOD_SERVER, data=query1_hod)\n",
    "    if not resp.ok:\n",
    "        print resp, resp.reason\n",
    "        return None\n",
    "    return resp\n",
    "## query 2\n",
    "def hod_query_2():\n",
    "    resp = requests.post(HOD_SERVER, data=query2_hod)\n",
    "    if not resp.ok:\n",
    "        print resp, resp.reason\n",
    "        return None\n",
    "    return resp\n",
    "## query 3\n",
    "def hod_query_3():\n",
    "    resp = requests.post(HOD_SERVER, data=query3_hod)\n",
    "    if not resp.ok:\n",
    "        print resp, resp.reason\n",
    "        return None\n",
    "    return resp"
   ]
  },
  {
   "cell_type": "markdown",
   "metadata": {},
   "source": [
    "## Fuseki Benchmark"
   ]
  },
  {
   "cell_type": "code",
   "execution_count": 33,
   "metadata": {
    "collapsed": true
   },
   "outputs": [],
   "source": [
    "# Fuseki Configs\n",
    "FUSEKI_SERVER = \"http://localhost:3031/berkeley/query\""
   ]
  },
  {
   "cell_type": "code",
   "execution_count": 30,
   "metadata": {
    "collapsed": false
   },
   "outputs": [
    {
     "name": "stdout",
     "output_type": "stream",
     "text": [
      "+ docker pull gtfierro/fuseki\n",
      "Using default tag: latest\n",
      "latest: Pulling from gtfierro/fuseki\n",
      "\u001b[0BDigest: sha256:258ffe22f17a04e7792b8fedcb44f4b5b62df627958048f463d99ad26304b7d2\n",
      "Status: Image is up to date for gtfierro/fuseki:latest\n",
      "+ docker kill fuseki\n",
      "Error response from daemon: Cannot kill container fuseki: Container 0a84b11090cdd546a3e112c698c8b528a7b3c37568caba1886f350855c77e714 is not running\n",
      "+ docker rm fuseki\n",
      "fuseki\n",
      "+ docker run -d --name fuseki -p3031:3030 gtfierro/fuseki\n",
      "72a293a9af4cfe3f8aedd5c669cb0e309063dccf9a7b0c07122d372b143d4842\n"
     ]
    }
   ],
   "source": [
    "!cd fuseki; ./runserver.sh ; cd .."
   ]
  },
  {
   "cell_type": "code",
   "execution_count": 42,
   "metadata": {
    "collapsed": false
   },
   "outputs": [],
   "source": [
    "## query 0\n",
    "def fuseki_query_0():\n",
    "    resp = requests.post(FUSEKI_SERVER, params={'query':query0_sparql})\n",
    "    if not resp.ok:\n",
    "        print resp, resp.reason\n",
    "        return None\n",
    "    return resp\n",
    "## query 1\n",
    "def fuseki_query_1(iterations=1):\n",
    "    resp = requests.post(FUSEKI_SERVER, params={'query':query1_sparql})\n",
    "    if not resp.ok:\n",
    "        print resp, resp.reason\n",
    "        return None\n",
    "    return resp\n",
    "## query 2\n",
    "def fuseki_query_2(iterations=1):\n",
    "    resp = requests.post(FUSEKI_SERVER, params={'query':query2_sparql})\n",
    "    if not resp.ok:\n",
    "        print resp, resp.reason\n",
    "        return None\n",
    "    return resp"
   ]
  },
  {
   "cell_type": "markdown",
   "metadata": {
    "collapsed": true
   },
   "source": [
    "## Alegrograph Benchmark"
   ]
  },
  {
   "cell_type": "code",
   "execution_count": 11,
   "metadata": {
    "collapsed": false
   },
   "outputs": [],
   "source": [
    "ALEGRO_SERVER = \"http://localhost:10035/repositories/berkeley/sparql\"\n",
    "auth = HTTPBasicAuth('root','asdfasdf')  "
   ]
  },
  {
   "cell_type": "code",
   "execution_count": 12,
   "metadata": {
    "collapsed": false
   },
   "outputs": [
    {
     "name": "stdout",
     "output_type": "stream",
     "text": [
      "+ docker pull gtfierro/alegrograph\n",
      "Using default tag: latest\n",
      "latest: Pulling from gtfierro/alegrograph\n",
      "\u001b[0BDigest: sha256:5bc1b9e90a8937934206c5ce2aefb2e7b4ff64387746356b449aa38add89d8f5\n",
      "Status: Image is up to date for gtfierro/alegrograph:latest\n",
      "+ docker kill alegrograph\n",
      "alegrograph\n",
      "+ docker rm alegrograph\n",
      "alegrograph\n",
      "+ docker run -d --name alegrograph -p10035:10035 gtfierro/alegrograph\n",
      "d3bfdc80432ed97c62affdfc2d3aca1b69bc45695cd4627e5791bc85dbc0285c\n"
     ]
    }
   ],
   "source": [
    "!cd alegrograph; ./runserver.sh ; cd .."
   ]
  },
  {
   "cell_type": "code",
   "execution_count": 43,
   "metadata": {
    "collapsed": false
   },
   "outputs": [],
   "source": [
    "def alegro_query_0():\n",
    "    resp = requests.post(ALEGRO_SERVER, data={'query': query0_sparql}, auth=auth)\n",
    "    if not resp.ok:\n",
    "        print resp, resp.reason\n",
    "        return None\n",
    "    return resp\n",
    "def alegro_query_1():\n",
    "    resp = requests.post(ALEGRO_SERVER, data={'query': query1_sparql}, auth=auth)\n",
    "    if not resp.ok:\n",
    "        print resp, resp.reason\n",
    "        return None\n",
    "    return resp\n",
    "def alegro_query_2():\n",
    "    resp = requests.post(ALEGRO_SERVER, data={'query': query2_sparql}, auth=auth)\n",
    "    if not resp.ok:\n",
    "        print resp, resp.reason\n",
    "        return None\n",
    "    return resp\n",
    "def alegro_query_3():\n",
    "    resp = requests.post(ALEGRO_SERVER, data={'query': query3_sparql}, auth=auth)\n",
    "    if not resp.ok:\n",
    "        print resp, resp.reason\n",
    "        return None\n",
    "    return resp"
   ]
  },
  {
   "cell_type": "markdown",
   "metadata": {
    "collapsed": true
   },
   "source": [
    "## RDF3X Benchmark"
   ]
  },
  {
   "cell_type": "code",
   "execution_count": 19,
   "metadata": {
    "collapsed": true
   },
   "outputs": [],
   "source": [
    "RDF3X_SERVER = \"http://localhost:8080/bar\""
   ]
  },
  {
   "cell_type": "code",
   "execution_count": 20,
   "metadata": {
    "collapsed": false
   },
   "outputs": [
    {
     "name": "stdout",
     "output_type": "stream",
     "text": [
      "+ docker pull gtfierro/rdf3x\n",
      "Using default tag: latest\n",
      "latest: Pulling from gtfierro/rdf3x\n",
      "\u001b[0BDigest: sha256:d2e7690aaf506da2a85b69c4370e9809f7d3a94c53bb99ffea60ed06a29a7ca6\n",
      "Status: Image is up to date for gtfierro/rdf3x:latest\n",
      "+ docker kill rdf3x\n",
      "rdf3x\n",
      "+ docker rm rdf3x\n",
      "rdf3x\n",
      "+ docker run -d --name rdf3x -p8080:8080 gtfierro/rdf3x\n",
      "bf2ee4475243511ef3fd4ae36a9ae83e8c96da45e76a540a34101b4c4427f254\n"
     ]
    }
   ],
   "source": [
    "!cd rdf3x; ./runserver.sh ; cd .."
   ]
  },
  {
   "cell_type": "code",
   "execution_count": 21,
   "metadata": {
    "collapsed": false
   },
   "outputs": [
    {
     "name": "stdout",
     "output_type": "stream",
     "text": [
      "0 6.95\n",
      "1 5.64\n",
      "2 6.50\n",
      "3 5.85\n",
      "4 5.81\n",
      "5 5.64\n",
      "6 5.59\n",
      "7 8.02\n",
      "8 5.83\n",
      "9 7.32\n",
      "Took 6.32ms\n"
     ]
    }
   ],
   "source": [
    "def rdf3x_query_0():\n",
    "    resp = requests.post(RDF3X_SERVER, data=query0_rdf3x)\n",
    "    if not resp.ok:\n",
    "        print resp, resp.reason\n",
    "        return None\n",
    "    return resp\n",
    "def rdf3x_query_1():\n",
    "    resp = requests.post(RDF3X_SERVER, data=query1_rdf3x)\n",
    "    if not resp.ok:\n",
    "        print resp, resp.reason\n",
    "        return None\n",
    "    return resp\n",
    "def rdf3x_query_2():\n",
    "    # multiply by 2 because of lack of UNION\n",
    "    resp = requests.post(RDF3X_SERVER, data=query2_rdf3x)\n",
    "    if not resp.ok:\n",
    "        print resp, resp.reason\n",
    "        return None\n",
    "    return resp\n",
    "def rdf3x_query_3():\n",
    "    resp = requests.post(RDF3X_SERVER, data=query3_rdf3x)\n",
    "    if not resp.ok:\n",
    "        print resp, resp.reason\n",
    "        return None\n",
    "    return resp"
   ]
  },
  {
   "cell_type": "markdown",
   "metadata": {
    "collapsed": true
   },
   "source": [
    "## rdflib Benchmark"
   ]
  },
  {
   "cell_type": "code",
   "execution_count": 25,
   "metadata": {
    "collapsed": true
   },
   "outputs": [],
   "source": [
    "RDFLIB_SERVER = \"http://localhost:8081/query\""
   ]
  },
  {
   "cell_type": "code",
   "execution_count": 26,
   "metadata": {
    "collapsed": false
   },
   "outputs": [
    {
     "name": "stdout",
     "output_type": "stream",
     "text": [
      "+ docker pull gtfierro/rdflib\n",
      "Using default tag: latest\n",
      "latest: Pulling from gtfierro/rdflib\n",
      "\u001b[0BDigest: sha256:45a315b24e52a74dd1bad984e79638595d9a7419c3bc0dc1be0e29f36c2cb6f1\n",
      "Status: Image is up to date for gtfierro/rdflib:latest\n",
      "+ docker kill rdflib\n",
      "rdflib\n",
      "+ docker rm rdflib\n",
      "rdflib\n",
      "+ docker run -d --name rdflib -p8081:8081 gtfierro/rdflib\n",
      "14130a46e909ce59c2b809e57ee9067d0616e0f53239a33daa55bb0eaa71f709\n"
     ]
    }
   ],
   "source": [
    "!cd rdflib; ./runserver.sh ; cd .."
   ]
  },
  {
   "cell_type": "code",
   "execution_count": 44,
   "metadata": {
    "collapsed": false
   },
   "outputs": [],
   "source": [
    "def rdflib_query_0():\n",
    "    resp = requests.post(RDFLIB_SERVER, data={'query': query0_sparql})\n",
    "    if not resp.ok:\n",
    "        print resp, resp.reason\n",
    "        return None\n",
    "    return resp\n",
    "def rdflib_query_1():\n",
    "    resp = requests.post(RDFLIB_SERVER, data={'query': query1_sparql})\n",
    "    if not resp.ok:\n",
    "        print resp, resp.reason\n",
    "        return None\n",
    "    return resp\n",
    "def rdflib_query_2():\n",
    "    resp = requests.post(RDFLIB_SERVER, data={'query': query2_sparql})\n",
    "    if not resp.ok:\n",
    "        print resp, resp.reason\n",
    "        return None\n",
    "    return resp\n",
    "def rdflib_query_3():\n",
    "    resp = requests.post(RDFLIB_SERVER, data={'query': query3_sparql})\n",
    "    if not resp.ok:\n",
    "        print resp, resp.reason\n",
    "        return None\n",
    "    return resp"
   ]
  },
  {
   "cell_type": "markdown",
   "metadata": {
    "collapsed": false
   },
   "source": [
    "# Benchmark Plots"
   ]
  },
  {
   "cell_type": "code",
   "execution_count": 40,
   "metadata": {
    "collapsed": false
   },
   "outputs": [
    {
     "name": "stdout",
     "output_type": "stream",
     "text": [
      "alegro\n",
      "hod\n",
      "rdflib\n",
      "rdf3x\n",
      "fuseki\n"
     ]
    }
   ],
   "source": [
    "# first get data for each query\n",
    "## query0\n",
    "R = {\n",
    "    'hod': hod_query_0,\n",
    "    'rdflib': rdflib_query_0,\n",
    "    'rdf3x': rdf3x_query_0,\n",
    "    'alegro': alegro_query_0,\n",
    "    'fuseki': fuseki_query_0,\n",
    "}\n",
    "data = {}\n",
    "for name, func in R.items():\n",
    "    print name\n",
    "    data[name] = get_runs(func, 100)"
   ]
  },
  {
   "cell_type": "code",
   "execution_count": 51,
   "metadata": {
    "collapsed": false
   },
   "outputs": [
    {
     "data": {
      "text/plain": [
       "<matplotlib.axes._subplots.AxesSubplot at 0x7f9fe8008a50>"
      ]
     },
     "execution_count": 51,
     "metadata": {},
     "output_type": "execute_result"
    },
    {
     "data": {
      "image/png": "[encoded data removed]",
      "text/plain": [
       "<matplotlib.figure.Figure at 0x7f9fe8046910>"
      ]
     },
     "metadata": {},
     "output_type": "display_data"
    }
   ],
   "source": [
    "df_q0 = pd.DataFrame.from_records(data)\n",
    "df_q0.plot()"
   ]
  },
  {
   "cell_type": "code",
   "execution_count": 52,
   "metadata": {
    "collapsed": false
   },
   "outputs": [
    {
     "data": {
      "text/html": [
       "<div>\n",
       "<table border=\"1\" class=\"dataframe\">\n",
       "  <thead>\n",
       "    <tr style=\"text-align: right;\">\n",
       "      <th></th>\n",
       "      <th>alegro</th>\n",
       "      <th>fuseki</th>\n",
       "      <th>hod</th>\n",
       "      <th>rdf3x</th>\n",
       "      <th>rdflib</th>\n",
       "    </tr>\n",
       "  </thead>\n",
       "  <tbody>\n",
       "    <tr>\n",
       "      <th>count</th>\n",
       "      <td>100.000000</td>\n",
       "      <td>100.000000</td>\n",
       "      <td>100.000000</td>\n",
       "      <td>100.000000</td>\n",
       "      <td>100.000000</td>\n",
       "    </tr>\n",
       "    <tr>\n",
       "      <th>mean</th>\n",
       "      <td>10.755972</td>\n",
       "      <td>14.710859</td>\n",
       "      <td>7.458391</td>\n",
       "      <td>6.108708</td>\n",
       "      <td>30.765186</td>\n",
       "    </tr>\n",
       "    <tr>\n",
       "      <th>std</th>\n",
       "      <td>5.217739</td>\n",
       "      <td>5.282675</td>\n",
       "      <td>1.853681</td>\n",
       "      <td>0.519759</td>\n",
       "      <td>4.449812</td>\n",
       "    </tr>\n",
       "    <tr>\n",
       "      <th>min</th>\n",
       "      <td>8.041016</td>\n",
       "      <td>8.076172</td>\n",
       "      <td>6.140137</td>\n",
       "      <td>5.342773</td>\n",
       "      <td>28.844727</td>\n",
       "    </tr>\n",
       "    <tr>\n",
       "      <th>25%</th>\n",
       "      <td>9.027283</td>\n",
       "      <td>10.480957</td>\n",
       "      <td>6.397461</td>\n",
       "      <td>5.718811</td>\n",
       "      <td>29.173584</td>\n",
       "    </tr>\n",
       "    <tr>\n",
       "      <th>50%</th>\n",
       "      <td>10.101440</td>\n",
       "      <td>14.046387</td>\n",
       "      <td>6.792480</td>\n",
       "      <td>6.014038</td>\n",
       "      <td>29.548584</td>\n",
       "    </tr>\n",
       "    <tr>\n",
       "      <th>75%</th>\n",
       "      <td>11.300659</td>\n",
       "      <td>17.578247</td>\n",
       "      <td>8.228638</td>\n",
       "      <td>6.452393</td>\n",
       "      <td>30.101624</td>\n",
       "    </tr>\n",
       "    <tr>\n",
       "      <th>max</th>\n",
       "      <td>60.343018</td>\n",
       "      <td>32.883057</td>\n",
       "      <td>20.646240</td>\n",
       "      <td>8.129883</td>\n",
       "      <td>61.853027</td>\n",
       "    </tr>\n",
       "  </tbody>\n",
       "</table>\n",
       "</div>"
      ],
      "text/plain": [
       "           alegro      fuseki         hod       rdf3x      rdflib\n",
       "count  100.000000  100.000000  100.000000  100.000000  100.000000\n",
       "mean    10.755972   14.710859    7.458391    6.108708   30.765186\n",
       "std      5.217739    5.282675    1.853681    0.519759    4.449812\n",
       "min      8.041016    8.076172    6.140137    5.342773   28.844727\n",
       "25%      9.027283   10.480957    6.397461    5.718811   29.173584\n",
       "50%     10.101440   14.046387    6.792480    6.014038   29.548584\n",
       "75%     11.300659   17.578247    8.228638    6.452393   30.101624\n",
       "max     60.343018   32.883057   20.646240    8.129883   61.853027"
      ]
     },
     "execution_count": 52,
     "metadata": {},
     "output_type": "execute_result"
    }
   ],
   "source": [
    "df_q0.describe()"
   ]
  },
  {
   "cell_type": "markdown",
   "metadata": {},
   "source": [
    "#### Query 1\n",
    "We ignore fuseki for the time being because it takes FOREVER"
   ]
  },
  {
   "cell_type": "code",
   "execution_count": 53,
   "metadata": {
    "collapsed": false
   },
   "outputs": [
    {
     "name": "stdout",
     "output_type": "stream",
     "text": [
      "alegro\n",
      "hod\n",
      "rdflib\n",
      "rdf3x\n"
     ]
    }
   ],
   "source": [
    "# first get data for each query\n",
    "## query1\n",
    "R = {\n",
    "    'hod': hod_query_1,\n",
    "    'rdflib': rdflib_query_1,\n",
    "    'rdf3x': rdf3x_query_1,\n",
    "    'alegro': alegro_query_1,\n",
    "}\n",
    "data = {}\n",
    "for name, func in R.items():\n",
    "    print name\n",
    "    data[name] = get_runs(func, 100)"
   ]
  },
  {
   "cell_type": "code",
   "execution_count": 56,
   "metadata": {
    "collapsed": false
   },
   "outputs": [
    {
     "data": {
      "text/plain": [
       "<matplotlib.axes._subplots.AxesSubplot at 0x7f9fe25f4a90>"
      ]
     },
     "execution_count": 56,
     "metadata": {},
     "output_type": "execute_result"
    },
    {
     "data": {
      "image/png": "[encoded data removed]",
      "text/plain": [
       "<matplotlib.figure.Figure at 0x7f9fe25fd850>"
      ]
     },
     "metadata": {},
     "output_type": "display_data"
    }
   ],
   "source": [
    "df_q1 = pd.DataFrame.from_records(data)\n",
    "df_q1[['hod','rdf3x']].plot()"
   ]
  },
  {
   "cell_type": "code",
   "execution_count": 55,
   "metadata": {
    "collapsed": false
   },
   "outputs": [
    {
     "data": {
      "text/html": [
       "<div>\n",
       "<table border=\"1\" class=\"dataframe\">\n",
       "  <thead>\n",
       "    <tr style=\"text-align: right;\">\n",
       "      <th></th>\n",
       "      <th>alegro</th>\n",
       "      <th>hod</th>\n",
       "      <th>rdf3x</th>\n",
       "      <th>rdflib</th>\n",
       "    </tr>\n",
       "  </thead>\n",
       "  <tbody>\n",
       "    <tr>\n",
       "      <th>count</th>\n",
       "      <td>100.000000</td>\n",
       "      <td>100.000000</td>\n",
       "      <td>100.000000</td>\n",
       "      <td>100.000000</td>\n",
       "    </tr>\n",
       "    <tr>\n",
       "      <th>mean</th>\n",
       "      <td>1676.712644</td>\n",
       "      <td>30.132563</td>\n",
       "      <td>7.704780</td>\n",
       "      <td>11497.545205</td>\n",
       "    </tr>\n",
       "    <tr>\n",
       "      <th>std</th>\n",
       "      <td>19.671116</td>\n",
       "      <td>9.734953</td>\n",
       "      <td>0.890382</td>\n",
       "      <td>143.328781</td>\n",
       "    </tr>\n",
       "    <tr>\n",
       "      <th>min</th>\n",
       "      <td>1649.639893</td>\n",
       "      <td>18.983887</td>\n",
       "      <td>6.937012</td>\n",
       "      <td>11156.653076</td>\n",
       "    </tr>\n",
       "    <tr>\n",
       "      <th>25%</th>\n",
       "      <td>1663.883179</td>\n",
       "      <td>22.584412</td>\n",
       "      <td>7.242676</td>\n",
       "      <td>11406.546692</td>\n",
       "    </tr>\n",
       "    <tr>\n",
       "      <th>50%</th>\n",
       "      <td>1671.981689</td>\n",
       "      <td>28.461914</td>\n",
       "      <td>7.560059</td>\n",
       "      <td>11472.489990</td>\n",
       "    </tr>\n",
       "    <tr>\n",
       "      <th>75%</th>\n",
       "      <td>1684.305542</td>\n",
       "      <td>35.093140</td>\n",
       "      <td>7.814819</td>\n",
       "      <td>11574.389404</td>\n",
       "    </tr>\n",
       "    <tr>\n",
       "      <th>max</th>\n",
       "      <td>1768.550049</td>\n",
       "      <td>59.661865</td>\n",
       "      <td>14.494873</td>\n",
       "      <td>11852.824219</td>\n",
       "    </tr>\n",
       "  </tbody>\n",
       "</table>\n",
       "</div>"
      ],
      "text/plain": [
       "            alegro         hod       rdf3x        rdflib\n",
       "count   100.000000  100.000000  100.000000    100.000000\n",
       "mean   1676.712644   30.132563    7.704780  11497.545205\n",
       "std      19.671116    9.734953    0.890382    143.328781\n",
       "min    1649.639893   18.983887    6.937012  11156.653076\n",
       "25%    1663.883179   22.584412    7.242676  11406.546692\n",
       "50%    1671.981689   28.461914    7.560059  11472.489990\n",
       "75%    1684.305542   35.093140    7.814819  11574.389404\n",
       "max    1768.550049   59.661865   14.494873  11852.824219"
      ]
     },
     "execution_count": 55,
     "metadata": {},
     "output_type": "execute_result"
    }
   ],
   "source": [
    "df_q1.describe()"
   ]
  },
  {
   "cell_type": "code",
   "execution_count": null,
   "metadata": {
    "collapsed": true
   },
   "outputs": [],
   "source": []
  }
 ],
 "metadata": {
  "kernelspec": {
   "display_name": "Python 2",
   "language": "python",
   "name": "python2"
  },
  "language_info": {
   "codemirror_mode": {
    "name": "ipython",
    "version": 2
   },
   "file_extension": ".py",
   "mimetype": "text/x-python",
   "name": "python",
   "nbconvert_exporter": "python",
   "pygments_lexer": "ipython2",
   "version": "2.7.12"
  }
 },
 "nbformat": 4,
 "nbformat_minor": 0
}
